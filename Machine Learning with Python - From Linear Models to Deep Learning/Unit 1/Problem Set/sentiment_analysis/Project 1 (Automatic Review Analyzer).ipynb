{
 "cells": [
  {
   "cell_type": "code",
   "execution_count": 1,
   "metadata": {},
   "outputs": [],
   "source": [
    "import numpy as np\n",
    "import random\n",
    "import matplotlib.pyplot as plt\n",
    "import csv\n",
    "from string import punctuation, digits"
   ]
  },
  {
   "cell_type": "markdown",
   "metadata": {},
   "source": [
    "# 1. Introduction"
   ]
  },
  {
   "cell_type": "markdown",
   "metadata": {},
   "source": [
    "The goal of this project is to design a classifier to use for sentiment analysis of product reviews. Our training set consists of reviews written by Amazon customers for various food products. The reviews, originally given on a 5 point scale, have been adjusted to a +1 or -1 scale, representing a positive or negative review, respectively.\n",
    "\n",
    "Below are two example entries from our dataset. Each entry consists of the review and its label. The two reviews were written by different customers describing their experience with a sugar-free candy. "
   ]
  },
  {
   "cell_type": "markdown",
   "metadata": {},
   "source": [
    "| Review | Label |\n",
    "| ------ | ----- |\n",
    "| Nasty No flavor. The candy is just red, No flavor. Just plan and chewy. I would never buy them again | -1 |\n",
    "| YUMMY! You would never guess that they're sugar-free and it's so great that you can eat them pretty much guilt free! i was so impressed that i've ordered some for myself (w dark chocolate) to take to the office. These are just EXCELLENT! | +1 |"
   ]
  },
  {
   "cell_type": "markdown",
   "metadata": {},
   "source": [
    "In order to automatically analyze reviews, you will need to complete the following tasks:\n",
    "- Implement and compare three types of linear classifiers: the perceptron algorithm, the average perceptron algorithm, and the Pegasos algorithm.\n",
    "\n",
    "- Use your classifiers on the food review dataset, using some simple text features.\n",
    "\n",
    "- Experiment with additional features and explore their impact on classifier performance. "
   ]
  },
  {
   "cell_type": "markdown",
   "metadata": {},
   "source": [
    "# 2. Hinge Loss"
   ]
  },
  {
   "cell_type": "markdown",
   "metadata": {},
   "source": [
    "### 2.1 Hinge Loss on One Data Sample"
   ]
  },
  {
   "cell_type": "markdown",
   "metadata": {},
   "source": [
    "We begin by writing the loss function: a hinge-loss function. For this function, we are given the model parameters $\\theta$ and $\\theta_{0}$. Additionally, we are given a feature matrix in which the rows are feature vectors and the columns are individual features, and a vector of labels representing the actual sentiment of the corresponding feature vector. "
   ]
  },
  {
   "cell_type": "code",
   "execution_count": 2,
   "metadata": {},
   "outputs": [],
   "source": [
    "def hinge_loss_single(feature_vector, label, theta, theta_0):\n",
    "    \"\"\"\n",
    "    Finds the hinge loss on a single data point given specific classification\n",
    "    parameters.\n",
    "\n",
    "    Args:\n",
    "        feature_vector - A numpy array describing the given data point.\n",
    "        label - A real valued number, the correct classification of the data\n",
    "            point.\n",
    "        theta - A numpy array describing the linear classifier.\n",
    "        theta_0 - A real valued number representing the offset parameter.\n",
    "\n",
    "\n",
    "    Returns: A real number representing the hinge loss associated with the\n",
    "    given data point and parameters.\n",
    "    \"\"\"\n",
    "    z = label * (theta @ feature_vector + theta_0)\n",
    "    return max(0, 1 - z)"
   ]
  },
  {
   "cell_type": "code",
   "execution_count": 3,
   "metadata": {},
   "outputs": [
    {
     "name": "stdout",
     "output_type": "stream",
     "text": [
      "Hinge loss:  0.19999999999999996\n",
      "Expected result (approx.):  0.2\n"
     ]
    }
   ],
   "source": [
    "# TESTS\n",
    "feature_vector = np.array([1, 2])\n",
    "label, theta, theta_0 = 1, np.array([-1, 1]), -0.2\n",
    "hinge_loss = hinge_loss_single(feature_vector, label, theta, theta_0)\n",
    "print(\"Hinge loss: \", hinge_loss)\n",
    "print(\"Expected result (approx.): \", 0.2)"
   ]
  },
  {
   "cell_type": "markdown",
   "metadata": {},
   "source": [
    "### 2.2 The Complete Hinge Loss"
   ]
  },
  {
   "cell_type": "markdown",
   "metadata": {},
   "source": [
    "Now it's time to implement the complete hinge loss for a full set of data. The input will be a full feature matrix this time, and we will have a vector of corresponding labels. The $k^{th}$ row of the feature matrix corresponds to the $k^{th}$ element of the labels vector. This function should return the appropriate loss of the classifier on the given dataset. "
   ]
  },
  {
   "cell_type": "code",
   "execution_count": 4,
   "metadata": {},
   "outputs": [],
   "source": [
    "def hinge_loss_full(feature_matrix, labels, theta, theta_0):\n",
    "    \"\"\"\n",
    "    Finds the total hinge loss on a set of data given specific classification\n",
    "    parameters.\n",
    "\n",
    "    Args:\n",
    "        feature_matrix - A numpy matrix describing the given data. Each row\n",
    "            represents a single data point.\n",
    "        labels - A numpy array where the kth element of the array is the\n",
    "            correct classification of the kth row of the feature matrix.\n",
    "        theta - A numpy array describing the linear classifier.\n",
    "        theta_0 - A real valued number representing the offset parameter.\n",
    "\n",
    "\n",
    "    Returns: A real number representing the hinge loss associated with the\n",
    "    given dataset and parameters. This number should be the average hinge\n",
    "    loss across all of the points in the feature matrix.\n",
    "    \"\"\"\n",
    "    # A Solution using hinge_loss_single:\n",
    "    #hinge_loss = 0\n",
    "    #for i in range(feature_matrix.shape[0]):\n",
    "    #    hinge_loss += hinge_loss_single(feature_matrix[i], labels[i], theta, theta_0)\n",
    "    #return hinge_loss / len(labels)\n",
    "    \n",
    "    # A Vectorized Solution:\n",
    "    z = feature_matrix @ theta + theta_0\n",
    "    hinge_loss = np.maximum(1 - labels * z, np.zeros(len(labels)))\n",
    "    return np.mean(hinge_loss)"
   ]
  },
  {
   "cell_type": "code",
   "execution_count": 5,
   "metadata": {},
   "outputs": [
    {
     "name": "stdout",
     "output_type": "stream",
     "text": [
      "Hinge loss:  0.19999999999999996\n",
      "Expected result (approx.):  0.2\n"
     ]
    }
   ],
   "source": [
    "# TESTS\n",
    "feature_vector = np.array([[1, 2], [1, 2]])\n",
    "label, theta, theta_0 = np.array([1, 1]), np.array([-1, 1]), -0.2\n",
    "hinge_loss = hinge_loss_full(feature_vector, label, theta, theta_0)\n",
    "print(\"Hinge loss: \", hinge_loss)\n",
    "print(\"Expected result (approx.): \", 0.2)"
   ]
  },
  {
   "cell_type": "markdown",
   "metadata": {},
   "source": [
    "# 3. Perceptron Algorithm"
   ]
  },
  {
   "cell_type": "markdown",
   "metadata": {},
   "source": [
    "### 3.1 Perceptron Single Step Update"
   ]
  },
  {
   "cell_type": "markdown",
   "metadata": {},
   "source": [
    "Now we will implement the single step update for the perceptron algorithm (implemented with 0−1 loss), given the feature vector as an array of numbers, the current $\\theta$ and $\\theta_{0}$ parameters, and the correct label of the feature vector. The function should return a tuple in which the first element is the correctly updated value of $\\theta$ and the second element is the correctly updated value of $\\theta_{0}$. \n",
    "\n",
    "Note that because of numerical instability issues, it is preferable to identify 0 with a small range [-$\\epsilon$,$\\epsilon$]."
   ]
  },
  {
   "cell_type": "code",
   "execution_count": 6,
   "metadata": {},
   "outputs": [],
   "source": [
    "def perceptron_single_step_update(\n",
    "        feature_vector,\n",
    "        label,\n",
    "        current_theta,\n",
    "        current_theta_0):\n",
    "    \"\"\"\n",
    "    Properly updates the classification parameter, theta and theta_0, on a\n",
    "    single step of the perceptron algorithm.\n",
    "\n",
    "    Args:\n",
    "        feature_vector - A numpy array describing a single data point.\n",
    "        label - The correct classification of the feature vector.\n",
    "        current_theta - The current theta being used by the perceptron\n",
    "            algorithm before this update.\n",
    "        current_theta_0 - The current theta_0 being used by the perceptron\n",
    "            algorithm before this update.\n",
    "\n",
    "    Returns: A tuple where the first element is a numpy array with the value of\n",
    "    theta after the current update has completed and the second element is a\n",
    "    real valued number with the value of theta_0 after the current updated has\n",
    "    completed.\n",
    "    \"\"\"\n",
    "    if label * (np.transpose(current_theta) @ feature_vector + current_theta_0) <= 1e-10:\n",
    "        current_theta += label * feature_vector\n",
    "        current_theta_0 += label\n",
    "    return (current_theta, current_theta_0)"
   ]
  },
  {
   "cell_type": "code",
   "execution_count": 7,
   "metadata": {},
   "outputs": [
    {
     "name": "stdout",
     "output_type": "stream",
     "text": [
      "Current Theta:  [0 3]\n",
      "Current Theta_0:  -0.5\n",
      "Expected Theta (approx.):  [0 3]\n",
      "Expected Theta_0 (approx.):  -0.5\n",
      "---------\n",
      "Current Theta:  [0 3]\n",
      "Current Theta_0:  0\n",
      "Expected Theta (approx.):  [0 3]\n",
      "Expected Theta_0 (approx.):  0\n",
      "---------\n"
     ]
    }
   ],
   "source": [
    "# TESTS\n",
    "feature_vector = np.array([1, 2])\n",
    "label, theta, theta_0 = 1, np.array([-1, 1]), -1.5\n",
    "current_theta, current_theta_0 = perceptron_single_step_update(feature_vector, label, theta, theta_0)\n",
    "print(\"Current Theta: \", current_theta)\n",
    "print(\"Current Theta_0: \", current_theta_0)\n",
    "print(\"Expected Theta (approx.): \", np.array([0, 3]))\n",
    "print(\"Expected Theta_0 (approx.): \", -0.5)\n",
    "print(\"---------\")\n",
    "\n",
    "feature_vector = np.array([1, 2])\n",
    "label, theta, theta_0 = 1, np.array([-1, 1]), -1\n",
    "current_theta, current_theta_0 = perceptron_single_step_update(feature_vector, label, theta, theta_0)\n",
    "print(\"Current Theta: \", current_theta)\n",
    "print(\"Current Theta_0: \", current_theta_0)\n",
    "print(\"Expected Theta (approx.): \", np.array([0, 3]))\n",
    "print(\"Expected Theta_0 (approx.): \", 0)\n",
    "print(\"---------\")"
   ]
  },
  {
   "cell_type": "markdown",
   "metadata": {},
   "source": [
    "### 3.2 Full Perceptron Algorithm"
   ]
  },
  {
   "cell_type": "markdown",
   "metadata": {},
   "source": [
    "In this step we  will implement the full perceptron algorithm. We will be given the same feature matrix and labels array as in <b> The Complete Hinge Loss </b>. We will also be given $T$, the maximum number of times that you should iterate through the feature matrix before terminating the algorithm. Initialize $\\theta$ and $\\theta_{0}$ to zero. This function should return a tuple in which the first element is the final value of $\\theta$ and the second element is the value of $\\theta_{0}$."
   ]
  },
  {
   "cell_type": "markdown",
   "metadata": {},
   "source": [
    "<b> NOTE: </b> Please call `get_order(feature_matrix.shape[0])`, and use the ordering to iterate the feature matrix in each iteration. The ordering is specified due to grading purpose. In practice, people typically just randomly shuffle indices to do stochastic optimization. "
   ]
  },
  {
   "cell_type": "code",
   "execution_count": 8,
   "metadata": {},
   "outputs": [],
   "source": [
    "def get_order(n_samples):\n",
    "    try:\n",
    "        with open(str(n_samples) + '.txt') as fp:\n",
    "            line = fp.readline()\n",
    "            return list(map(int, line.split(',')))\n",
    "    except FileNotFoundError:\n",
    "        random.seed(1)\n",
    "        indices = list(range(n_samples))\n",
    "        random.shuffle(indices)\n",
    "        return indices"
   ]
  },
  {
   "cell_type": "code",
   "execution_count": 9,
   "metadata": {},
   "outputs": [],
   "source": [
    "def perceptron(feature_matrix, labels, T):\n",
    "    \"\"\"\n",
    "    Runs the full perceptron algorithm on a given set of data. Runs T\n",
    "    iterations through the data set, there is no need to worry about\n",
    "    stopping early.\n",
    "\n",
    "    NOTE: Please use the previously implemented functions when applicable.\n",
    "    Do not copy paste code from previous parts.\n",
    "\n",
    "    NOTE: Iterate the data matrix by the orders returned by get_order(feature_matrix.shape[0])\n",
    "\n",
    "    Args:\n",
    "        feature_matrix -  A numpy matrix describing the given data. Each row\n",
    "            represents a single data point.\n",
    "        labels - A numpy array where the kth element of the array is the\n",
    "            correct classification of the kth row of the feature matrix.\n",
    "        T - An integer indicating how many times the perceptron algorithm\n",
    "            should iterate through the feature matrix.\n",
    "\n",
    "    Returns: A tuple where the first element is a numpy array with the value of\n",
    "    theta, the linear classification parameter, after T iterations through the\n",
    "    feature matrix and the second element is a real number with the value of\n",
    "    theta_0, the offset classification parameter, after T iterations through\n",
    "    the feature matrix.\n",
    "    \"\"\"\n",
    "    theta, theta_0 = np.zeros(feature_matrix.shape[1]), 0\n",
    "    for t in range(T):\n",
    "        for i in get_order(feature_matrix.shape[0]):\n",
    "            theta, theta_0 = perceptron_single_step_update(feature_matrix[i], labels[i], theta, theta_0)\n",
    "    \n",
    "    return (theta, theta_0)"
   ]
  },
  {
   "cell_type": "code",
   "execution_count": 10,
   "metadata": {},
   "outputs": [
    {
     "name": "stdout",
     "output_type": "stream",
     "text": [
      "Theta:  [1. 2.]\n",
      "Theta_0:  1\n",
      "Expected Theta (approx.):  [1 2]\n",
      "Expected Theta_0 (approx.):  1\n",
      "---------\n",
      "Theta:  [0. 2.]\n",
      "Theta_0:  2\n",
      "Expected Theta (approx.):  [0 2]\n",
      "Expected Theta_0 (approx.):  2\n",
      "---------\n",
      "Theta:  [1. 2.]\n",
      "Theta_0:  1\n",
      "Expected Theta (approx.):  [1 2]\n",
      "Expected Theta_0 (approx.):  1\n",
      "---------\n",
      "Theta:  [0. 2.]\n",
      "Theta_0:  2\n",
      "Expected Theta (approx.):  [0 2]\n",
      "Expected Theta_0 (approx.):  2\n",
      "---------\n"
     ]
    }
   ],
   "source": [
    "# TESTS\n",
    "feature_matrix = np.array([[1, 2]])\n",
    "labels = np.array([1])\n",
    "T = 1\n",
    "theta, theta_0 = perceptron(feature_matrix, labels, T)\n",
    "print(\"Theta: \", theta)\n",
    "print(\"Theta_0: \", theta_0)\n",
    "print(\"Expected Theta (approx.): \", np.array([1, 2]))\n",
    "print(\"Expected Theta_0 (approx.): \", 1)\n",
    "print(\"---------\")\n",
    "\n",
    "feature_matrix = np.array([[1, 2], [-1, 0]])\n",
    "labels = np.array([1, 1])\n",
    "T = 1\n",
    "theta, theta_0 = perceptron(feature_matrix, labels, T)\n",
    "print(\"Theta: \", theta)\n",
    "print(\"Theta_0: \", theta_0)\n",
    "print(\"Expected Theta (approx.): \", np.array([0, 2]))\n",
    "print(\"Expected Theta_0 (approx.): \", 2)\n",
    "print(\"---------\")\n",
    "\n",
    "feature_matrix = np.array([[1, 2]])\n",
    "labels = np.array([1])\n",
    "T = 2\n",
    "theta, theta_0 = perceptron(feature_matrix, labels, T)\n",
    "print(\"Theta: \", theta)\n",
    "print(\"Theta_0: \", theta_0)\n",
    "print(\"Expected Theta (approx.): \", np.array([1, 2]))\n",
    "print(\"Expected Theta_0 (approx.): \", 1)\n",
    "print(\"---------\")\n",
    "\n",
    "feature_matrix = np.array([[1, 2], [-1, 0]])\n",
    "labels = np.array([1, 1])\n",
    "T = 2\n",
    "theta, theta_0 = perceptron(feature_matrix, labels, T)\n",
    "print(\"Theta: \", theta)\n",
    "print(\"Theta_0: \", theta_0)\n",
    "print(\"Expected Theta (approx.): \", np.array([0, 2]))\n",
    "print(\"Expected Theta_0 (approx.): \", 2)\n",
    "print(\"---------\")"
   ]
  },
  {
   "cell_type": "markdown",
   "metadata": {},
   "source": [
    "### 3.3 Average Perceptron Algorithm"
   ]
  },
  {
   "cell_type": "markdown",
   "metadata": {},
   "source": [
    "The average perceptron will add a modification to the original perceptron algorithm: since the basic algorithm continues updating as the algorithm runs, nudging parameters in possibly conflicting directions, it is better to take an average of those parameters as the final answer. Every update of the algorithm is the same as before. The returned parameters $\\theta$, however, are an average of the $\\theta$s across the $nT$ steps:\n",
    "\n",
    "$\\theta_{final} = \\frac{1}{nT}(\\theta(1) + \\theta(2) + \\cdots + \\theta(nT))$\n",
    "\n",
    "You will now implement the average perceptron algorithm. This function should be constructed similarly to the Full Perceptron Algorithm above, except that it should return the average values of $\\theta$ and $\\theta_{0}$."
   ]
  },
  {
   "cell_type": "markdown",
   "metadata": {},
   "source": [
    "<b> NOTE: </b> Please call `get_order(feature_matrix.shape[0])`, and use the ordering to iterate the feature matrix in each iteration. The ordering is specified due to grading purpose. In practice, people typically just randomly shuffle indices to do stochastic optimization. "
   ]
  },
  {
   "cell_type": "code",
   "execution_count": 11,
   "metadata": {},
   "outputs": [],
   "source": [
    "def average_perceptron(feature_matrix, labels, T):\n",
    "    \"\"\"\n",
    "    Runs the average perceptron algorithm on a given set of data. Runs T\n",
    "    iterations through the data set, there is no need to worry about\n",
    "    stopping early.\n",
    "\n",
    "    NOTE: Please use the previously implemented functions when applicable.\n",
    "    Do not copy paste code from previous parts.\n",
    "\n",
    "    NOTE: Iterate the data matrix by the orders returned by get_order(feature_matrix.shape[0])\n",
    "\n",
    "\n",
    "    Args:\n",
    "        feature_matrix -  A numpy matrix describing the given data. Each row\n",
    "            represents a single data point.\n",
    "        labels - A numpy array where the kth element of the array is the\n",
    "            correct classification of the kth row of the feature matrix.\n",
    "        T - An integer indicating how many times the perceptron algorithm\n",
    "            should iterate through the feature matrix.\n",
    "\n",
    "    Returns: A tuple where the first element is a numpy array with the value of\n",
    "    the average theta, the linear classification parameter, found after T\n",
    "    iterations through the feature matrix and the second element is a real\n",
    "    number with the value of the average theta_0, the offset classification\n",
    "    parameter, found after T iterations through the feature matrix.\n",
    "\n",
    "    Hint: It is difficult to keep a running average; however, it is simple to\n",
    "    find a sum and divide.\n",
    "    \"\"\"\n",
    "    theta, theta_0 = np.zeros(len(feature_matrix[0])), 0\n",
    "    theta_sum, theta_0_sum = np.zeros(len(feature_matrix[0])), 0\n",
    "    n = len(labels)\n",
    "    \n",
    "    for t in range(T):\n",
    "        for i in get_order(feature_matrix.shape[0]):\n",
    "            theta, theta_0 = perceptron_single_step_update(feature_matrix[i], labels[i], theta, theta_0)\n",
    "            theta_sum += theta\n",
    "            theta_0_sum += theta_0\n",
    "    return (theta_sum / (n * T), theta_0_sum / (n * T))"
   ]
  },
  {
   "cell_type": "code",
   "execution_count": 12,
   "metadata": {},
   "outputs": [
    {
     "name": "stdout",
     "output_type": "stream",
     "text": [
      "Theta:  [1. 2.]\n",
      "Theta_0:  1.0\n",
      "Expected Theta (approx.):  [1 2]\n",
      "Expected Theta_0 (approx.):  1\n",
      "---------\n",
      "Theta:  [-0.5  1. ]\n",
      "Theta_0:  1.5\n",
      "Expected Theta (approx.):  [-0.5  1. ]\n",
      "Expected Theta_0 (approx.):  1.5\n",
      "---------\n",
      "Theta:  [1. 2.]\n",
      "Theta_0:  1.0\n",
      "Expected Theta (approx.):  [1 2]\n",
      "Expected Theta_0 (approx.):  1\n",
      "---------\n",
      "Theta:  [-0.25  1.5 ]\n",
      "Theta_0:  1.75\n",
      "Expected Theta (approx.):  [-0.25  1.5 ]\n",
      "Expected Theta_0 (approx.):  1.75\n",
      "---------\n"
     ]
    }
   ],
   "source": [
    "# TESTS\n",
    "feature_matrix = np.array([[1, 2]])\n",
    "labels = np.array([1])\n",
    "T = 1\n",
    "theta, theta_0 = average_perceptron(feature_matrix, labels, T)\n",
    "print(\"Theta: \", theta)\n",
    "print(\"Theta_0: \", theta_0)\n",
    "print(\"Expected Theta (approx.): \", np.array([1, 2]))\n",
    "print(\"Expected Theta_0 (approx.): \", 1)\n",
    "print(\"---------\")\n",
    "\n",
    "feature_matrix = np.array([[1, 2], [-1, 0]])\n",
    "labels = np.array([1, 1])\n",
    "T = 1\n",
    "theta, theta_0 = average_perceptron(feature_matrix, labels, T)\n",
    "print(\"Theta: \", theta)\n",
    "print(\"Theta_0: \", theta_0)\n",
    "print(\"Expected Theta (approx.): \", np.array([-0.5, 1]))\n",
    "print(\"Expected Theta_0 (approx.): \", 1.5)\n",
    "print(\"---------\")\n",
    "\n",
    "feature_matrix = np.array([[1, 2]])\n",
    "labels = np.array([1])\n",
    "T = 2\n",
    "theta, theta_0 = average_perceptron(feature_matrix, labels, T)\n",
    "print(\"Theta: \", theta)\n",
    "print(\"Theta_0: \", theta_0)\n",
    "print(\"Expected Theta (approx.): \", np.array([1, 2]))\n",
    "print(\"Expected Theta_0 (approx.): \", 1)\n",
    "print(\"---------\")\n",
    "\n",
    "feature_matrix = np.array([[1, 2], [-1, 0]])\n",
    "labels = np.array([1, 1])\n",
    "T = 2\n",
    "theta, theta_0 = average_perceptron(feature_matrix, labels, T)\n",
    "print(\"Theta: \", theta)\n",
    "print(\"Theta_0: \", theta_0)\n",
    "print(\"Expected Theta (approx.): \", np.array([-0.25, 1.5]))\n",
    "print(\"Expected Theta_0 (approx.): \", 1.75)\n",
    "print(\"---------\")"
   ]
  },
  {
   "cell_type": "markdown",
   "metadata": {},
   "source": [
    "# 4. Pegasos Algorithm"
   ]
  },
  {
   "cell_type": "markdown",
   "metadata": {},
   "source": [
    "Now we will implement the Pegasos algorithm. The following pseudo-code describes the Pegasos update rule.\n",
    "\n",
    "<b> Pegasos update rule </b> ($x(i)$, $y(i)$, $\\lambda$, $\\eta$, $\\theta$):\n",
    "\n",
    "if $y(i)(\\theta \\cdot x(i)) \\leq 1$ then\n",
    "\n",
    "update $\\theta = (1 − \\eta \\lambda) \\theta + \\eta y(i)x(i)$\n",
    "\n",
    "else:\n",
    "\n",
    "update $\\theta = (1 − \\eta \\lambda) \\theta$\n",
    "\n",
    "The $\\eta$ parameter is a decaying factor that will decrease over time. The $\\lambda$ parameter is a regularizing parameter.\n",
    "\n",
    "In this problem, we will need to adapt this update rule to add a bias term ($\\theta_{0}$) to the hypothesis, but take care not to penalize the magnitude of $\\theta_{0}$."
   ]
  },
  {
   "cell_type": "markdown",
   "metadata": {},
   "source": [
    "### 4.1 Pegasos Single Step Update"
   ]
  },
  {
   "cell_type": "markdown",
   "metadata": {},
   "source": [
    "We will now implement the single step update for the Pegasos algorithm. This function is very similar to the function that we implemented in <b> Perceptron Single Step Update </b>, except that it should utilize the Pegasos parameter update rules instead of those for perceptron. The function will also be passed a $\\lambda$ and $\\eta$ value to use for updates. "
   ]
  },
  {
   "cell_type": "code",
   "execution_count": 13,
   "metadata": {},
   "outputs": [],
   "source": [
    "def pegasos_single_step_update(\n",
    "        feature_vector,\n",
    "        label,\n",
    "        L,\n",
    "        eta,\n",
    "        current_theta,\n",
    "        current_theta_0):\n",
    "    \"\"\"\n",
    "    Properly updates the classification parameter, theta and theta_0, on a\n",
    "    single step of the Pegasos algorithm\n",
    "\n",
    "    Args:\n",
    "        feature_vector - A numpy array describing a single data point.\n",
    "        label - The correct classification of the feature vector.\n",
    "        L - The lamba value being used to update the parameters.\n",
    "        eta - Learning rate to update parameters.\n",
    "        current_theta - The current theta being used by the Pegasos\n",
    "            algorithm before this update.\n",
    "        current_theta_0 - The current theta_0 being used by the\n",
    "            Pegasos algorithm before this update.\n",
    "\n",
    "    Returns: A tuple where the first element is a numpy array with the value of\n",
    "    theta after the current update has completed and the second element is a\n",
    "    real valued number with the value of theta_0 after the current updated has\n",
    "    completed.\n",
    "    \"\"\"\n",
    "    multiplier = 1 - eta * L\n",
    "    if label * (np.transpose(current_theta) @ feature_vector + current_theta_0) <= 1:\n",
    "        current_theta = multiplier * current_theta + eta * label * feature_vector\n",
    "        current_theta_0 = current_theta_0 + eta * label\n",
    "    else:\n",
    "        current_theta = multiplier * current_theta\n",
    "    return (current_theta, current_theta_0)"
   ]
  },
  {
   "cell_type": "code",
   "execution_count": 14,
   "metadata": {},
   "outputs": [
    {
     "name": "stdout",
     "output_type": "stream",
     "text": [
      "Current Theta:  [-0.88  1.18]\n",
      "Current Theta_0:  -1.4\n",
      "Expected Theta (approx.):  [-0.88  1.18]\n",
      "Expected Theta_0 (approx.):  -1.4\n",
      "---------\n",
      "Current Theta:  [-0.88  1.08]\n",
      "Current Theta_0:  1.1\n",
      "Expected Theta (approx.):  [-0.88  1.08]\n",
      "Expected Theta_0 (approx.):  1.1\n",
      "---------\n",
      "Current Theta:  [-0.88  1.18]\n",
      "Current Theta_0:  -1.9\n",
      "Expected Theta (approx.):  [-0.88  1.18]\n",
      "Expected Theta_0 (approx.):  -1.9\n",
      "---------\n"
     ]
    }
   ],
   "source": [
    "# TESTS\n",
    "feature_vector = np.array([1, 2])\n",
    "label, theta, theta_0 = 1, np.array([-1, 1]), -1.5\n",
    "L = 0.2\n",
    "eta = 0.1\n",
    "current_theta, current_theta_0 = pegasos_single_step_update(feature_vector, label, L, eta, theta, theta_0)\n",
    "print(\"Current Theta: \", current_theta)\n",
    "print(\"Current Theta_0: \", current_theta_0)\n",
    "print(\"Expected Theta (approx.): \", np.array([-0.88, 1.18]))\n",
    "print(\"Expected Theta_0 (approx.): \", -1.4)\n",
    "print(\"---------\")\n",
    "\n",
    "feature_vector = np.array([1, 1])\n",
    "label, theta, theta_0 = 1, np.array([-1, 1]), 1\n",
    "L = 0.2\n",
    "eta = 0.1\n",
    "current_theta, current_theta_0 = pegasos_single_step_update(feature_vector, label, L, eta, theta, theta_0)\n",
    "print(\"Current Theta: \", current_theta)\n",
    "print(\"Current Theta_0: \", current_theta_0)\n",
    "print(\"Expected Theta (approx.): \", np.array([-0.88, 1.08]))\n",
    "print(\"Expected Theta_0 (approx.): \", 1.1)\n",
    "print(\"---------\")\n",
    "\n",
    "feature_vector = np.array([1, 2])\n",
    "label, theta, theta_0 = 1, np.array([-1, 1]), -2\n",
    "L = 0.2\n",
    "eta = 0.1\n",
    "current_theta, current_theta_0 = pegasos_single_step_update(feature_vector, label, L, eta, theta, theta_0)\n",
    "print(\"Current Theta: \", current_theta)\n",
    "print(\"Current Theta_0: \", current_theta_0)\n",
    "print(\"Expected Theta (approx.): \", np.array([-0.88, 1.18]))\n",
    "print(\"Expected Theta_0 (approx.): \", -1.9)\n",
    "print(\"---------\")"
   ]
  },
  {
   "cell_type": "markdown",
   "metadata": {},
   "source": [
    "### 4.2 Full Pegasos Algorithm"
   ]
  },
  {
   "cell_type": "markdown",
   "metadata": {},
   "source": [
    "Finally, we will implement the full Pegasos algorithm. We will be given the same feature matrix and labels array as you were given in <b> Full Perceptron Algorithm </b>. We will also be given $T$, the maximum number of times that you should iterate through the feature matrix before terminating the algorithm. Initialize $\\theta$ and $\\theta_{0}$ to zero. For each update, set $\\eta = \\frac{1}{\\sqrt{t}}$ where $t$ is a counter for the number of updates performed so far (between 1 and $nT$ inclusive). This function should return a tuple in which the first element is the final value of θ and the second element is the value of $\\theta_{0}$. "
   ]
  },
  {
   "cell_type": "markdown",
   "metadata": {},
   "source": [
    "<b> NOTE: </b> Please call `get_order(feature_matrix.shape[0])`, and use the ordering to iterate the feature matrix in each iteration. The ordering is specified due to grading purpose. In practice, people typically just randomly shuffle indices to do stochastic optimization. "
   ]
  },
  {
   "cell_type": "code",
   "execution_count": 15,
   "metadata": {},
   "outputs": [],
   "source": [
    "def pegasos(feature_matrix, labels, T, L):\n",
    "    \"\"\"\n",
    "    Runs the Pegasos algorithm on a given set of data. Runs T\n",
    "    iterations through the data set, there is no need to worry about\n",
    "    stopping early.\n",
    "\n",
    "    For each update, set learning rate = 1/sqrt(t),\n",
    "    where t is a counter for the number of updates performed so far (between 1\n",
    "    and nT inclusive).\n",
    "\n",
    "    NOTE: Please use the previously implemented functions when applicable.\n",
    "    Do not copy paste code from previous parts.\n",
    "\n",
    "    Args:\n",
    "        feature_matrix - A numpy matrix describing the given data. Each row\n",
    "            represents a single data point.\n",
    "        labels - A numpy array where the kth element of the array is the\n",
    "            correct classification of the kth row of the feature matrix.\n",
    "        T - An integer indicating how many times the algorithm\n",
    "            should iterate through the feature matrix.\n",
    "        L - The lamba value being used to update the Pegasos\n",
    "            algorithm parameters.\n",
    "\n",
    "    Returns: A tuple where the first element is a numpy array with the value of\n",
    "    the theta, the linear classification parameter, found after T\n",
    "    iterations through the feature matrix and the second element is a real\n",
    "    number with the value of the theta_0, the offset classification\n",
    "    parameter, found after T iterations through the feature matrix.\n",
    "    \"\"\"\n",
    "    theta, theta_0 = np.zeros(len(feature_matrix[0])), 0\n",
    "    num_updates = 0\n",
    "    for t in range(T):\n",
    "        for i in get_order(feature_matrix.shape[0]):\n",
    "            num_updates += 1\n",
    "            eta = 1 / np.sqrt(num_updates)\n",
    "            theta, theta_0 = pegasos_single_step_update(feature_matrix[i], labels[i], L, eta, theta, theta_0)\n",
    "    return (theta, theta_0)"
   ]
  },
  {
   "cell_type": "code",
   "execution_count": 16,
   "metadata": {},
   "outputs": [
    {
     "name": "stdout",
     "output_type": "stream",
     "text": [
      "Theta:  [1. 2.]\n",
      "Theta_0:  1.0\n",
      "Expected Theta (approx.):  [1 2]\n",
      "Expected Theta_0 (approx.):  1\n",
      "---------\n",
      "Theta:  [0.29289322 0.29289322]\n",
      "Theta_0:  1.0\n",
      "Expected Theta (approx.):  [0.29289322 0.29289322]\n",
      "Expected Theta_0 (approx.):  1\n",
      "---------\n"
     ]
    }
   ],
   "source": [
    "# TESTS\n",
    "feature_matrix = np.array([[1, 2]])\n",
    "labels = np.array([1])\n",
    "T = 1\n",
    "L = 0.2\n",
    "theta, theta_0 = pegasos(feature_matrix, labels, T, L)\n",
    "print(\"Theta: \", theta)\n",
    "print(\"Theta_0: \", theta_0)\n",
    "print(\"Expected Theta (approx.): \", np.array([1, 2]))\n",
    "print(\"Expected Theta_0 (approx.): \", 1)\n",
    "print(\"---------\")\n",
    "\n",
    "feature_matrix = np.array([[1, 1], [1, 1]])\n",
    "labels = np.array([1, 1])\n",
    "T = 1\n",
    "L = 1\n",
    "theta, theta_0 = pegasos(feature_matrix, labels, T, L)\n",
    "print(\"Theta: \", theta)\n",
    "print(\"Theta_0: \", theta_0)\n",
    "print(\"Expected Theta (approx.): \", np.array([1-1/np.sqrt(2), 1-1/np.sqrt(2)]))\n",
    "print(\"Expected Theta_0 (approx.): \", 1)\n",
    "print(\"---------\")"
   ]
  },
  {
   "cell_type": "markdown",
   "metadata": {},
   "source": [
    "# 5. Verifying Implemetation with Toy Data"
   ]
  },
  {
   "cell_type": "markdown",
   "metadata": {},
   "source": [
    "Now that we have completed the implementation of the 3 learning algorithms, we should qualitatively verify our implementations. The code provided below loads a 2D dataset from `toy_data.txt` using the `load_toy_data` function, and trains our models using $T$ = 10, $\\lambda$ = 0.2. The code will compute $\\theta$ and $\\theta_{0}$ for each of the learning algorithms. Then, it will call `plot_toy_data` to plot the resulting model and boundary. "
   ]
  },
  {
   "cell_type": "code",
   "execution_count": 17,
   "metadata": {},
   "outputs": [],
   "source": [
    "def load_toy_data(path_toy_data):\n",
    "    \"\"\"\n",
    "    Loads the 2D toy dataset as numpy arrays.\n",
    "    Returns the tuple (features, labels) in which features is an Nx2 numpy matrix and\n",
    "    labels is a length-N vector of +1/-1 labels.\n",
    "    \"\"\"\n",
    "    labels, xs, ys = np.loadtxt(path_toy_data, delimiter='\\t', unpack=True)\n",
    "    return np.vstack((xs, ys)).T, labels"
   ]
  },
  {
   "cell_type": "code",
   "execution_count": 18,
   "metadata": {},
   "outputs": [],
   "source": [
    "def plot_toy_data(algo_name, features, labels, thetas):\n",
    "    \"\"\"\n",
    "    Plots the toy data in 2D.\n",
    "    Arguments:\n",
    "    * features - an Nx2 ndarray of features (points)\n",
    "    * labels - a length-N vector of +1/-1 labels\n",
    "    * thetas - the tuple (theta, theta_0) that is the output of the learning algorithm\n",
    "    * algorithm - the string name of the learning algorithm used\n",
    "    \"\"\"\n",
    "    # plot the points with labels represented as colors\n",
    "    plt.subplots()\n",
    "    colors = ['b' if label == 1 else 'r' for label in labels]\n",
    "    plt.scatter(features[:, 0], features[:, 1], s=40, c=colors)\n",
    "    xmin, xmax = plt.axis()[:2]\n",
    "\n",
    "    # plot the decision boundary\n",
    "    theta, theta_0 = thetas\n",
    "    xs = np.linspace(xmin, xmax)\n",
    "    ys = -(theta[0]*xs + theta_0) / (theta[1] + 1e-16)\n",
    "    plt.plot(xs, ys, 'k-')\n",
    "\n",
    "    # show the plot\n",
    "    algo_name = ' '.join((word.capitalize() for word in algo_name.split(' ')))\n",
    "    plt.suptitle('Classified Toy Data ({})'.format(algo_name))\n",
    "    plt.show()"
   ]
  },
  {
   "cell_type": "code",
   "execution_count": 19,
   "metadata": {},
   "outputs": [
    {
     "name": "stdout",
     "output_type": "stream",
     "text": [
      "theta for Perceptron is 3.9173999999999918, 4.164000000000001\n",
      "theta_0 for Perceptron is -8.0\n"
     ]
    },
    {
     "data": {
      "image/png": "[encoded data removed]",
      "text/plain": [
       "<Figure size 432x288 with 1 Axes>"
      ]
     },
     "metadata": {
      "needs_background": "light"
     },
     "output_type": "display_data"
    },
    {
     "name": "stdout",
     "output_type": "stream",
     "text": [
      "theta for Average Perceptron is 3.47826049999999, 3.611060999999974\n",
      "theta_0 for Average Perceptron is -6.373\n"
     ]
    },
    {
     "data": {
      "image/png": "[encoded data removed]",
      "text/plain": [
       "<Figure size 432x288 with 1 Axes>"
      ]
     },
     "metadata": {
      "needs_background": "light"
     },
     "output_type": "display_data"
    },
    {
     "name": "stdout",
     "output_type": "stream",
     "text": [
      "theta for Pegasos is 0.7346463119064065, 0.6300224592973831\n",
      "theta_0 for Pegasos is -1.2195071848898564\n"
     ]
    },
    {
     "data": {
      "image/png": "[encoded data removed]",
      "text/plain": [
       "<Figure size 432x288 with 1 Axes>"
      ]
     },
     "metadata": {
      "needs_background": "light"
     },
     "output_type": "display_data"
    }
   ],
   "source": [
    "toy_features, toy_labels = toy_data = load_toy_data('toy_data.tsv')\n",
    "\n",
    "T = 10\n",
    "L = 0.2\n",
    "\n",
    "thetas_perceptron = perceptron(toy_features, toy_labels, T)\n",
    "thetas_avg_perceptron = average_perceptron(toy_features, toy_labels, T)\n",
    "thetas_pegasos = pegasos(toy_features, toy_labels, T, L)\n",
    "\n",
    "def plot_toy_results(algo_name, thetas):\n",
    "    print('theta for', algo_name, 'is', ', '.join(map(str,list(thetas[0]))))\n",
    "    print('theta_0 for', algo_name, 'is', str(thetas[1]))\n",
    "    plot_toy_data(algo_name, toy_features, toy_labels, thetas)\n",
    "\n",
    "plot_toy_results('Perceptron', thetas_perceptron)\n",
    "plot_toy_results('Average Perceptron', thetas_avg_perceptron)\n",
    "plot_toy_results('Pegasos', thetas_pegasos)"
   ]
  },
  {
   "cell_type": "markdown",
   "metadata": {},
   "source": [
    "# 6. Automative Review Analyzer"
   ]
  },
  {
   "cell_type": "markdown",
   "metadata": {},
   "source": [
    "Now that we have verified the correctness of your implementations, we are now ready to tackle the main task of this project: building a classifier that labels reviews as positive or negative using text-based features and the linear classifiers we implemented earlier."
   ]
  },
  {
   "cell_type": "markdown",
   "metadata": {},
   "source": [
    "## 6.1 The Data"
   ]
  },
  {
   "cell_type": "markdown",
   "metadata": {},
   "source": [
    "The data consists of several reviews, each of which has been labeled with −1 or +1, corresponding to a negative or positive review, respectively. The original data has been split into three files:\n",
    "\n",
    "- reviews_train.tsv (4000 examples)\n",
    "- reviews_validation.tsv (500 examples)\n",
    "- reviews_test.tsv (500 examples) "
   ]
  },
  {
   "cell_type": "markdown",
   "metadata": {},
   "source": [
    "The function below loads the datasets mentioned earlier using the `load_data` function and then splits each one into its component texts and labels."
   ]
  },
  {
   "cell_type": "code",
   "execution_count": 20,
   "metadata": {},
   "outputs": [],
   "source": [
    "def load_data(path_data, extras=False):\n",
    "    \"\"\"\n",
    "    Returns a list of dict with keys:\n",
    "    * sentiment: +1 or -1 if the review was positive or negative, respectively\n",
    "    * text: the text of the review\n",
    "\n",
    "    Additionally, if the `extras` argument is True, each dict will also include the\n",
    "    following information:\n",
    "    * productId: a string that uniquely identifies each product\n",
    "    * userId: a string that uniquely identifies each user\n",
    "    * summary: the title of the review\n",
    "    * helpfulY: the number of users who thought this review was helpful\n",
    "    * helpfulN: the number of users who thought this review was NOT helpful\n",
    "    \"\"\"\n",
    "\n",
    "    basic_fields = {'sentiment', 'text'}\n",
    "    numeric_fields = {'sentiment', 'helpfulY', 'helpfulN'}\n",
    "\n",
    "    data = []\n",
    "    f_data = open(path_data, encoding=\"latin1\")\n",
    "    \n",
    "    for datum in csv.DictReader(f_data, delimiter='\\t'):\n",
    "        for field in list(datum.keys()):\n",
    "            if not extras and field not in basic_fields:\n",
    "                del datum[field]\n",
    "            elif field in numeric_fields and datum[field]:\n",
    "                datum[field] = int(datum[field])\n",
    "\n",
    "        data.append(datum)\n",
    "\n",
    "    f_data.close()\n",
    "\n",
    "    return data"
   ]
  },
  {
   "cell_type": "code",
   "execution_count": 21,
   "metadata": {},
   "outputs": [],
   "source": [
    "train_data = load_data('reviews_train.tsv')\n",
    "val_data = load_data('reviews_val.tsv')\n",
    "test_data = load_data('reviews_test.tsv')"
   ]
  },
  {
   "cell_type": "code",
   "execution_count": 22,
   "metadata": {},
   "outputs": [],
   "source": [
    "train_texts, train_labels = zip(*((sample['text'], sample['sentiment']) for sample in train_data))\n",
    "val_texts, val_labels = zip(*((sample['text'], sample['sentiment']) for sample in val_data))\n",
    "test_texts, test_labels = zip(*((sample['text'], sample['sentiment']) for sample in test_data))"
   ]
  },
  {
   "cell_type": "markdown",
   "metadata": {},
   "source": [
    "## 6.2 Translating Reviews to Feature Vectors"
   ]
  },
  {
   "cell_type": "markdown",
   "metadata": {},
   "source": [
    "We will convert review texts into feature vectors using a bag of words approach. We start by compiling all the words that appear in a training set of reviews into a dictionary, thereby producing a list of $d$ unique words.\n",
    "\n",
    "We can then transform each of the reviews into a feature vector of length d by setting the $i^{th}$ coordinate of the feature vector to 1 if the $i^{th}$ word in the dictionary appears in the review, or 0 otherwise. \n",
    "\n",
    "For instance, consider two simple documents `“Mary loves apples\"` and `“Red apples\"`. In this case, the dictionary is the set `{Mary;loves;apples;red}`, and the documents are represented as `(1;1;1;0)` and `(0;0;1;1)`.\n",
    "\n",
    "A bag of words model can be easily expanded to include phrases of length $m$. A unigram model is the case for which $m = 1$. In the example, the unigram dictionary would be `(Mary;loves;apples;red)`. In the bigram case, $m = 2$, the dictionary is `(Mary loves;loves apples;Red apples)`, and representations for each sample are `(1;1;0)`, `(0;0;1)`. For this project, we will only use the unigram word features. "
   ]
  },
  {
   "cell_type": "markdown",
   "metadata": {},
   "source": [
    "We have also been supplied  with the `bag_of_words` function shown below, which takes the raw data and returns dictionary of unigram words."
   ]
  },
  {
   "cell_type": "code",
   "execution_count": 23,
   "metadata": {},
   "outputs": [],
   "source": [
    "def extract_words(input_string):\n",
    "    \"\"\"\n",
    "    Helper function for bag_of_words()\n",
    "    Inputs a text string\n",
    "    Returns a list of lowercase words in the string.\n",
    "    Punctuation and digits are separated out into their own words.\n",
    "    \"\"\"\n",
    "    for c in punctuation + digits:\n",
    "        input_string = input_string.replace(c, ' ' + c + ' ')\n",
    "\n",
    "    return input_string.lower().split()\n",
    "\n",
    "def bag_of_words(texts):\n",
    "    \"\"\"\n",
    "    Inputs a list of string reviews\n",
    "    Returns a dictionary of unique unigrams occurring over the input\n",
    "    \"\"\"\n",
    "    dictionary = {} # maps word to unique index\n",
    "    for text in texts:\n",
    "        word_list = extract_words(text)\n",
    "        with open('stopwords.txt', 'r') as f:\n",
    "            stop_words = f.read().splitlines()\n",
    "        for word in word_list:\n",
    "            if word not in dictionary:\n",
    "                dictionary[word] = len(dictionary)\n",
    "    return dictionary\n",
    "\n",
    "def extract_bow_feature_vectors(reviews, dictionary):\n",
    "    \"\"\"\n",
    "    Inputs a list of string reviews\n",
    "    Inputs the dictionary of words as given by bag_of_words\n",
    "    Returns the bag-of-words feature matrix representation of the data.\n",
    "    The returned matrix is of shape (n, m), where n is the number of reviews\n",
    "    and m the total number of entries in the dictionary.\n",
    "    \"\"\"\n",
    "\n",
    "    num_reviews = len(reviews)\n",
    "    feature_matrix = np.zeros([num_reviews, len(dictionary)])\n",
    "\n",
    "    for i, text in enumerate(reviews):\n",
    "        word_list = extract_words(text)\n",
    "        for word in word_list:\n",
    "            if word in dictionary:\n",
    "                feature_matrix[i, dictionary[word]] = 1\n",
    "    return feature_matrix"
   ]
  },
  {
   "cell_type": "code",
   "execution_count": 24,
   "metadata": {},
   "outputs": [],
   "source": [
    "dictionary = bag_of_words(train_texts)\n",
    "\n",
    "train_bow_features = extract_bow_feature_vectors(train_texts, dictionary)\n",
    "val_bow_features = extract_bow_feature_vectors(val_texts, dictionary)\n",
    "test_bow_features = extract_bow_feature_vectors(test_texts, dictionary)"
   ]
  },
  {
   "cell_type": "markdown",
   "metadata": {},
   "source": [
    "# 7. Classification and Accuracy"
   ]
  },
  {
   "cell_type": "markdown",
   "metadata": {},
   "source": [
    "## 7.1 Classification"
   ]
  },
  {
   "cell_type": "markdown",
   "metadata": {},
   "source": [
    "Now we need a way to actually use our model to classify the data points. Thus, we must implement a way to classify the data points using the model parameters, and then measure the accuracy of the model. Given the feature matrix, $\\theta$, and $\\theta_{0}$ as defined in previous sections, this function should return a numpy array of -1s and 1s. If a prediction is greater than zero, it should be considered a positive classification. "
   ]
  },
  {
   "cell_type": "code",
   "execution_count": 25,
   "metadata": {},
   "outputs": [],
   "source": [
    "def classify(feature_matrix, theta, theta_0):\n",
    "    \"\"\"\n",
    "    A classification function that uses theta and theta_0 to classify a set of\n",
    "    data points.\n",
    "\n",
    "    Args:\n",
    "        feature_matrix - A numpy matrix describing the given data. Each row\n",
    "            represents a single data point.\n",
    "                theta - A numpy array describing the linear classifier.\n",
    "        theta - A numpy array describing the linear classifier.\n",
    "        theta_0 - A real valued number representing the offset parameter.\n",
    "\n",
    "    Returns: A numpy array of 1s and -1s where the kth element of the array is\n",
    "    the predicted classification of the kth row of the feature matrix using the\n",
    "    given theta and theta_0. If a prediction is GREATER THAN zero, it should\n",
    "    be considered a positive classification.\n",
    "    \"\"\"\n",
    "    predictions = np.zeros(feature_matrix.shape[0])\n",
    "    for i in range(feature_matrix.shape[0]):\n",
    "        pred = feature_matrix[i] @ theta + theta_0\n",
    "        if pred > 0:\n",
    "            predictions[i] = 1\n",
    "        else:\n",
    "            predictions[i] = -1\n",
    "    return predictions"
   ]
  },
  {
   "cell_type": "code",
   "execution_count": 26,
   "metadata": {},
   "outputs": [
    {
     "name": "stdout",
     "output_type": "stream",
     "text": [
      "Classification Result:  [1. 1. 1.]\n",
      "Expected Classification Result:  [1 1 1]\n",
      "---------\n",
      "Classification Result:  [-1.]\n",
      "Expected Classification Result:  [-1]\n",
      "---------\n"
     ]
    }
   ],
   "source": [
    "# TESTS\n",
    "feature_matrix = np.array([[1, 1], [1, 1], [1, 1]])\n",
    "theta = np.array([1, 1])\n",
    "theta_0 = 0\n",
    "result = classify(feature_matrix, theta, theta_0)\n",
    "print(\"Classification Result: \", result)\n",
    "print(\"Expected Classification Result: \", np.array([1, 1, 1]))\n",
    "print(\"---------\")\n",
    "\n",
    "feature_matrix = np.array([[-1, 1]])\n",
    "theta = np.array([1, 1])\n",
    "theta_0 = 0\n",
    "result = classify(feature_matrix, theta, theta_0)\n",
    "print(\"Classification Result: \", result)\n",
    "print(\"Expected Classification Result: \", np.array([-1]))\n",
    "print(\"---------\")"
   ]
  },
  {
   "cell_type": "markdown",
   "metadata": {},
   "source": [
    "## 7.2 Accuracy"
   ]
  },
  {
   "cell_type": "markdown",
   "metadata": {},
   "source": [
    "We have been supplied with an accuracy function, as shown below. The `accuracy` function takes a numpy array of predicted labels and a numpy array of actual labels and returns the prediction accuracy. We will now use this function along with the functions that we have implemented thus far in order to implement `classifier_accuracy`."
   ]
  },
  {
   "cell_type": "code",
   "execution_count": 27,
   "metadata": {},
   "outputs": [],
   "source": [
    "def accuracy(preds, targets):\n",
    "    \"\"\"\n",
    "    Given length-N vectors containing predicted and target labels,\n",
    "    returns the percentage and number of correct predictions.\n",
    "    \"\"\"\n",
    "    return (preds == targets).mean()"
   ]
  },
  {
   "cell_type": "markdown",
   "metadata": {},
   "source": [
    "The `classifier_accuracy` function should take 6 arguments:\n",
    "- a classifier function that, itself, takes arguments (feature_matrix, labels, **kwargs)\n",
    "- the training feature matrix\n",
    "- the validation feature matrix\n",
    "- the training labels\n",
    "- the valiation labels\n",
    "- a **kwargs argument to be passed to the classifier function\n",
    "\n",
    "This function should train the given classifier using the training data and then compute compute the classification accuracy on both the train and validation data. The return values should be a tuple where the first value is the training accuracy and the second value is the validation accuracy. "
   ]
  },
  {
   "cell_type": "code",
   "execution_count": 28,
   "metadata": {},
   "outputs": [],
   "source": [
    "def classifier_accuracy(\n",
    "        classifier,\n",
    "        train_feature_matrix,\n",
    "        val_feature_matrix,\n",
    "        train_labels,\n",
    "        val_labels,\n",
    "        **kwargs):\n",
    "    \"\"\"\n",
    "    Trains a linear classifier and computes accuracy.\n",
    "    The classifier is trained on the train data. The classifier's\n",
    "    accuracy on the train and validation data is then returned.\n",
    "\n",
    "    Args:\n",
    "        classifier - A classifier function that takes arguments\n",
    "            (feature matrix, labels, **kwargs) and returns (theta, theta_0)\n",
    "        train_feature_matrix - A numpy matrix describing the training\n",
    "            data. Each row represents a single data point.\n",
    "        val_feature_matrix - A numpy matrix describing the training\n",
    "            data. Each row represents a single data point.\n",
    "        train_labels - A numpy array where the kth element of the array\n",
    "            is the correct classification of the kth row of the training\n",
    "            feature matrix.\n",
    "        val_labels - A numpy array where the kth element of the array\n",
    "            is the correct classification of the kth row of the validation\n",
    "            feature matrix.\n",
    "        **kwargs - Additional named arguments to pass to the classifier\n",
    "            (e.g. T or L)\n",
    "\n",
    "    Returns: A tuple in which the first element is the (scalar) accuracy of the\n",
    "    trained classifier on the training data and the second element is the\n",
    "    accuracy of the trained classifier on the validation data.\n",
    "    \"\"\"\n",
    "    theta, theta_0 = classifier(train_feature_matrix, train_labels, **kwargs)\n",
    "    \n",
    "    train_predictions = classify(train_feature_matrix, theta, theta_0)\n",
    "    val_predictions = classify(val_feature_matrix, theta, theta_0)\n",
    "    train_accuracy = accuracy(train_predictions, train_labels)\n",
    "    validation_accuracy = accuracy(val_predictions, val_labels)\n",
    "    \n",
    "    return (train_accuracy, validation_accuracy)"
   ]
  },
  {
   "cell_type": "code",
   "execution_count": 29,
   "metadata": {},
   "outputs": [
    {
     "name": "stdout",
     "output_type": "stream",
     "text": [
      "Training Accuracy:  1.0\n",
      "Validation Accuracy:  0.0\n",
      "Expected Training Accuracy:  1\n",
      "Expected Validation Accuracy:  0\n",
      "---------\n",
      "Training Accuracy:  1.0\n",
      "Validation Accuracy:  0.0\n",
      "Expected Training Accuracy:  1\n",
      "Expected Validation Accuracy:  0\n",
      "---------\n"
     ]
    }
   ],
   "source": [
    "#TESTS\n",
    "train_feature_matrix = np.array([[1, 0], [1, -1], [2, 3]])\n",
    "val_feature_matrix = np.array([[1, 1], [2, -1]])\n",
    "sample_train_labels = np.array([1, -1, 1])\n",
    "sample_val_labels = np.array([-1, 1])\n",
    "T = 1\n",
    "train_acc, val_acc = classifier_accuracy(perceptron, train_feature_matrix, val_feature_matrix, sample_train_labels, sample_val_labels, T = T)\n",
    "print(\"Training Accuracy: \", train_acc)\n",
    "print(\"Validation Accuracy: \", val_acc)\n",
    "print(\"Expected Training Accuracy: \", 1)\n",
    "print(\"Expected Validation Accuracy: \", 0)\n",
    "print(\"---------\")\n",
    "\n",
    "train_feature_matrix = np.array([[1, 0], [1, -1], [2, 3]])\n",
    "val_feature_matrix = np.array([[1, 1], [2, -1]])\n",
    "sample_train_labels = np.array([1, -1, 1])\n",
    "sample_val_labels = np.array([-1, 1])\n",
    "T = 1\n",
    "L = 0.2\n",
    "train_acc, val_acc = classifier_accuracy(pegasos, train_feature_matrix, val_feature_matrix, sample_train_labels, sample_val_labels, T = T, L = L)\n",
    "print(\"Training Accuracy: \", train_acc)\n",
    "print(\"Validation Accuracy: \", val_acc)\n",
    "print(\"Expected Training Accuracy: \", 1)\n",
    "print(\"Expected Validation Accuracy: \", 0)\n",
    "print(\"---------\")"
   ]
  },
  {
   "cell_type": "markdown",
   "metadata": {},
   "source": [
    "## 7.3 Baseline Accuracy"
   ]
  },
  {
   "cell_type": "markdown",
   "metadata": {},
   "source": [
    "We now use the code provided below to report the training and validation accuracies of each algorithm with $T$ = 10 and $\\lambda$ = 0.01 (the $\\lambda$ value only applies to Pegasos). "
   ]
  },
  {
   "cell_type": "code",
   "execution_count": 30,
   "metadata": {},
   "outputs": [
    {
     "name": "stdout",
     "output_type": "stream",
     "text": [
      "Training accuracy for perceptron:   0.8157\n",
      "Validation accuracy for perceptron: 0.7160\n",
      "Training accuracy for average perceptron:   0.9728\n",
      "Validation accuracy for average perceptron: 0.7980\n",
      "Training accuracy for Pegasos:                     0.9143\n",
      "Validation accuracy for Pegasos:                   0.7900\n"
     ]
    }
   ],
   "source": [
    "T = 10\n",
    "L = 0.01\n",
    "\n",
    "pct_train_accuracy, pct_val_accuracy = classifier_accuracy(perceptron, train_bow_features,val_bow_features,train_labels,val_labels,T = T)\n",
    "print(\"{:35} {:.4f}\".format(\"Training accuracy for perceptron:\", pct_train_accuracy))\n",
    "print(\"{:35} {:.4f}\".format(\"Validation accuracy for perceptron:\", pct_val_accuracy))\n",
    "\n",
    "avg_pct_train_accuracy, avg_pct_val_accuracy = classifier_accuracy(average_perceptron, train_bow_features,val_bow_features,train_labels,val_labels,T = T)\n",
    "print(\"{:43} {:.4f}\".format(\"Training accuracy for average perceptron:\", avg_pct_train_accuracy))\n",
    "print(\"{:43} {:.4f}\".format(\"Validation accuracy for average perceptron:\", avg_pct_val_accuracy))\n",
    "\n",
    "avg_peg_train_accuracy, avg_peg_val_accuracy = classifier_accuracy(pegasos, train_bow_features,val_bow_features,train_labels,val_labels,T = T,L = L)\n",
    "print(\"{:50} {:.4f}\".format(\"Training accuracy for Pegasos:\", avg_peg_train_accuracy))\n",
    "print(\"{:50} {:.4f}\".format(\"Validation accuracy for Pegasos:\", avg_peg_val_accuracy))"
   ]
  },
  {
   "cell_type": "markdown",
   "metadata": {},
   "source": [
    "# 8. Parameter Tuning"
   ]
  },
  {
   "cell_type": "markdown",
   "metadata": {},
   "source": [
    "We finally have our algorithms up and running, and a way to measure performance! But, it's still unclear what values the hyperparameters like $T$ and $\\lambda$ should have. In this section, we'll tune these hyperparameters to maximize the performance of each model. "
   ]
  },
  {
   "cell_type": "markdown",
   "metadata": {},
   "source": [
    "One way to tune your hyperparameters for any given Machine Learning algorithm is to perform a grid search over all the possible combinations of values. If your hyperparameters can be any real number, you will need to limit the search to some finite set of possible values for each hyperparameter. For efficiency reasons, often you might want to tune one individual parameter, keeping all others constant, and then move onto the next one. Compared to a full grid search, there are many fewer possible combinations to check. This is what we'll be doing for this section."
   ]
  },
  {
   "cell_type": "markdown",
   "metadata": {},
   "source": [
    "We use the code provided below to implement the tuning algorithm. We restrict ourselves for the purpose of this project to the following range of values of $T$: [1, 5, 10, 15, 25, 50] and $\\lambda$: [0.001, 0.01, 0.1, 1, 10]. Note that for the pegasos algorithm, we first fix $\\lambda$ = 0.01 to tune $T$, and then use the best $T$ to tune $\\lambda$."
   ]
  },
  {
   "cell_type": "code",
   "execution_count": 31,
   "metadata": {},
   "outputs": [],
   "source": [
    "def tune(train_fn, param_vals, train_feats, train_labels, val_feats, val_labels):\n",
    "    train_accs = np.ndarray(len(param_vals))\n",
    "    val_accs = np.ndarray(len(param_vals))\n",
    "\n",
    "    for i, val in enumerate(param_vals):\n",
    "        theta, theta_0 = train_fn(train_feats, train_labels, val)\n",
    "\n",
    "        train_preds = classify(train_feats, theta, theta_0)\n",
    "        train_accs[i] = accuracy(train_preds, train_labels)\n",
    "\n",
    "        val_preds = classify(val_feats, theta, theta_0)\n",
    "        val_accs[i] = accuracy(val_preds, val_labels)\n",
    "\n",
    "    return train_accs, val_accs\n",
    "\n",
    "def tune_perceptron(*args):\n",
    "    return tune(perceptron, *args)\n",
    "\n",
    "def tune_avg_perceptron(*args):\n",
    "    return tune(average_perceptron, *args)\n",
    "\n",
    "def tune_pegasos_T(best_L, *args):\n",
    "    def train_fn(features, labels, T):\n",
    "        return pegasos(features, labels, T, best_L)\n",
    "    return tune(train_fn, *args)\n",
    "\n",
    "def tune_pegasos_L(best_T, *args):\n",
    "    def train_fn(features, labels, L):\n",
    "        return pegasos(features, labels, best_T, L)\n",
    "    return tune(train_fn, *args)"
   ]
  },
  {
   "cell_type": "code",
   "execution_count": 32,
   "metadata": {},
   "outputs": [],
   "source": [
    "def plot_tune_results(algo_name, param_name, param_vals, acc_train, acc_val):\n",
    "    \"\"\"\n",
    "    Plots classification accuracy on the training and validation data versus\n",
    "    several values of a hyperparameter used during training.\n",
    "    \"\"\"\n",
    "    # put the data on the plot\n",
    "    plt.subplots()\n",
    "    plt.plot(param_vals, acc_train, '-o')\n",
    "    plt.plot(param_vals, acc_val, '-o')\n",
    "\n",
    "    # make the plot presentable\n",
    "    algo_name = ' '.join((word.capitalize() for word in algo_name.split(' ')))\n",
    "    param_name = param_name.capitalize()\n",
    "    plt.suptitle('Classification Accuracy vs {} ({})'.format(param_name, algo_name))\n",
    "    plt.legend(['train','val'], loc='upper right', title='Partition')\n",
    "    plt.xlabel(param_name)\n",
    "    plt.ylabel('Accuracy (%)')\n",
    "    plt.show()"
   ]
  },
  {
   "cell_type": "code",
   "execution_count": 33,
   "metadata": {},
   "outputs": [
    {
     "name": "stdout",
     "output_type": "stream",
     "text": [
      "perceptron valid: [(1, 0.758), (5, 0.72), (10, 0.716), (15, 0.778), (25, 0.794), (50, 0.79)]\n",
      "best = 0.7940, T=25.0000\n",
      "avg perceptron valid: [(1, 0.794), (5, 0.792), (10, 0.798), (15, 0.798), (25, 0.8), (50, 0.796)]\n",
      "best = 0.8000, T=25.0000\n",
      "Pegasos valid: tune T [(1, 0.786), (5, 0.78), (10, 0.79), (15, 0.802), (25, 0.806), (50, 0.8)]\n",
      "best = 0.8060, T=25.0000\n",
      "Pegasos valid: tune L [(0.001, 0.786), (0.01, 0.806), (0.1, 0.762), (1, 0.568), (10, 0.518)]\n",
      "best = 0.8060, L=0.0100\n"
     ]
    },
    {
     "data": {
      "image/png": "[encoded data removed]",
      "text/plain": [
       "<Figure size 432x288 with 1 Axes>"
      ]
     },
     "metadata": {
      "needs_background": "light"
     },
     "output_type": "display_data"
    },
    {
     "data": {
      "image/png": "[encoded data removed]",
      "text/plain": [
       "<Figure size 432x288 with 1 Axes>"
      ]
     },
     "metadata": {
      "needs_background": "light"
     },
     "output_type": "display_data"
    },
    {
     "data": {
      "image/png": "[encoded data removed]",
      "text/plain": [
       "<Figure size 432x288 with 1 Axes>"
      ]
     },
     "metadata": {
      "needs_background": "light"
     },
     "output_type": "display_data"
    },
    {
     "data": {
      "image/png": "[encoded data removed]",
      "text/plain": [
       "<Figure size 432x288 with 1 Axes>"
      ]
     },
     "metadata": {
      "needs_background": "light"
     },
     "output_type": "display_data"
    }
   ],
   "source": [
    "data = (train_bow_features, train_labels, val_bow_features, val_labels)\n",
    "\n",
    "# values of T and lambda to try\n",
    "Ts = [1, 5, 10, 15, 25, 50]\n",
    "Ls = [0.001, 0.01, 0.1, 1, 10]\n",
    "\n",
    "pct_tune_results = tune_perceptron(Ts, *data)\n",
    "print('perceptron valid:', list(zip(Ts, pct_tune_results[1])))\n",
    "print('best = {:.4f}, T={:.4f}'.format(np.max(pct_tune_results[1]), Ts[np.argmax(pct_tune_results[1])]))\n",
    "\n",
    "avg_pct_tune_results = tune_avg_perceptron(Ts, *data)\n",
    "print('avg perceptron valid:', list(zip(Ts, avg_pct_tune_results[1])))\n",
    "print('best = {:.4f}, T={:.4f}'.format(np.max(avg_pct_tune_results[1]), Ts[np.argmax(avg_pct_tune_results[1])]))\n",
    "\n",
    "# fix values for L and T while tuning Pegasos T and L, respective\n",
    "fix_L = 0.01\n",
    "peg_tune_results_T = tune_pegasos_T(fix_L, Ts, *data)\n",
    "print('Pegasos valid: tune T', list(zip(Ts, peg_tune_results_T[1])))\n",
    "print('best = {:.4f}, T={:.4f}'.format(np.max(peg_tune_results_T[1]), Ts[np.argmax(peg_tune_results_T[1])]))\n",
    "\n",
    "fix_T = Ts[np.argmax(peg_tune_results_T[1])]\n",
    "peg_tune_results_L = tune_pegasos_L(fix_T, Ls, *data)\n",
    "print('Pegasos valid: tune L', list(zip(Ls, peg_tune_results_L[1])))\n",
    "print('best = {:.4f}, L={:.4f}'.format(np.max(peg_tune_results_L[1]), Ls[np.argmax(peg_tune_results_L[1])]))\n",
    "\n",
    "plot_tune_results('Perceptron', 'T', Ts, *pct_tune_results)\n",
    "plot_tune_results('Avg Perceptron', 'T', Ts, *avg_pct_tune_results)\n",
    "plot_tune_results('Pegasos', 'T', Ts, *peg_tune_results_T)\n",
    "plot_tune_results('Pegasos', 'L', Ls, *peg_tune_results_L)"
   ]
  },
  {
   "cell_type": "markdown",
   "metadata": {},
   "source": [
    "We can see from the results that our best method is the Pegasos algorithm with $T$ = 25 and $\\lambda$ = 0.01. Using our optimal method and hyperparameters, we can compute for the test accuracy."
   ]
  },
  {
   "cell_type": "code",
   "execution_count": 34,
   "metadata": {},
   "outputs": [
    {
     "name": "stdout",
     "output_type": "stream",
     "text": [
      "0.802\n"
     ]
    }
   ],
   "source": [
    "best_T = 25\n",
    "best_L = 0.01\n",
    "theta, theta_0 = pegasos(train_bow_features, train_labels, best_T, best_L)\n",
    "test_pred = classify(test_bow_features, theta, theta_0)\n",
    "print(accuracy(test_pred, test_labels))"
   ]
  },
  {
   "cell_type": "markdown",
   "metadata": {},
   "source": [
    "# 9. Feature Engineering"
   ]
  },
  {
   "cell_type": "markdown",
   "metadata": {},
   "source": [
    "Frequently, the way the data is represented can have a significant impact on the performance of a machine learning method. We can try to improve the performance of your best classifier by using different features. "
   ]
  },
  {
   "cell_type": "markdown",
   "metadata": {},
   "source": [
    "## 9.1 Removing Stop Words"
   ]
  },
  {
   "cell_type": "markdown",
   "metadata": {},
   "source": [
    "We can modify the `bag_of_words` function to implement stop words removal. Specifically, we load the file `stopwords.txt`, remove the words in the file from the dictionary, and use features constructed from the new dictionary to train our model and make predictions. "
   ]
  },
  {
   "cell_type": "code",
   "execution_count": 35,
   "metadata": {},
   "outputs": [],
   "source": [
    "def bag_of_words_v2(texts):\n",
    "    \"\"\"\n",
    "    Inputs a list of string reviews\n",
    "    Returns a dictionary of unique unigrams occurring over the input\n",
    "    \"\"\"\n",
    "    dictionary = {} # maps word to unique index\n",
    "    for text in texts:\n",
    "        word_list = extract_words(text)\n",
    "        with open('stopwords.txt', 'r') as f:\n",
    "            stop_words = f.read().splitlines()\n",
    "        for word in word_list:\n",
    "            if word not in dictionary and word not in stop_words:\n",
    "                dictionary[word] = len(dictionary)\n",
    "    return dictionary"
   ]
  },
  {
   "cell_type": "markdown",
   "metadata": {},
   "source": [
    "Using the Pegasos algorithm with $T$ = 25 and $\\lambda = 0.01$, "
   ]
  },
  {
   "cell_type": "code",
   "execution_count": 36,
   "metadata": {},
   "outputs": [],
   "source": [
    "dictionary = bag_of_words_v2(train_texts)\n",
    "\n",
    "train_bow_features = extract_bow_feature_vectors(train_texts, dictionary)\n",
    "val_bow_features = extract_bow_feature_vectors(val_texts, dictionary)\n",
    "test_bow_features = extract_bow_feature_vectors(test_texts, dictionary)"
   ]
  },
  {
   "cell_type": "code",
   "execution_count": 37,
   "metadata": {},
   "outputs": [
    {
     "name": "stdout",
     "output_type": "stream",
     "text": [
      "0.808\n"
     ]
    }
   ],
   "source": [
    "best_T = 25\n",
    "best_L = 0.01\n",
    "theta, theta_0 = pegasos(train_bow_features, train_labels, best_T, best_L)\n",
    "test_pred = classify(test_bow_features, theta, theta_0)\n",
    "print(accuracy(test_pred, test_labels))"
   ]
  },
  {
   "cell_type": "markdown",
   "metadata": {},
   "source": [
    "We see an improvement in test accuracy of 0.06!"
   ]
  },
  {
   "cell_type": "markdown",
   "metadata": {},
   "source": [
    "## 9.2 Count Features"
   ]
  },
  {
   "cell_type": "markdown",
   "metadata": {},
   "source": [
    "We can also modify the `extract_bow_feature_vectors` function so that when we compute the feature vector of a word, we use its count in each document rather than a binary indicator. "
   ]
  },
  {
   "cell_type": "code",
   "execution_count": 38,
   "metadata": {},
   "outputs": [],
   "source": [
    "def extract_bow_feature_vectors_v2(reviews, dictionary):\n",
    "    \"\"\"\n",
    "    Inputs a list of string reviews\n",
    "    Inputs the dictionary of words as given by bag_of_words\n",
    "    Returns the bag-of-words feature matrix representation of the data.\n",
    "    The returned matrix is of shape (n, m), where n is the number of reviews\n",
    "    and m the total number of entries in the dictionary.\n",
    "    \"\"\"\n",
    "\n",
    "    num_reviews = len(reviews)\n",
    "    feature_matrix = np.zeros([num_reviews, len(dictionary)])\n",
    "\n",
    "    for i, text in enumerate(reviews):\n",
    "        word_list = extract_words(text)\n",
    "        for word in word_list:\n",
    "            if word in dictionary:\n",
    "                feature_matrix[i, dictionary[word]] += 1\n",
    "    return feature_matrix"
   ]
  },
  {
   "cell_type": "code",
   "execution_count": 39,
   "metadata": {},
   "outputs": [],
   "source": [
    "dictionary = bag_of_words_v2(train_texts)\n",
    "\n",
    "train_bow_features = extract_bow_feature_vectors_v2(train_texts, dictionary)\n",
    "val_bow_features = extract_bow_feature_vectors_v2(val_texts, dictionary)\n",
    "test_bow_features = extract_bow_feature_vectors_v2(test_texts, dictionary)"
   ]
  },
  {
   "cell_type": "code",
   "execution_count": 40,
   "metadata": {},
   "outputs": [
    {
     "name": "stdout",
     "output_type": "stream",
     "text": [
      "0.77\n"
     ]
    }
   ],
   "source": [
    "best_T = 25\n",
    "best_L = 0.01\n",
    "theta, theta_0 = pegasos(train_bow_features, train_labels, best_T, best_L)\n",
    "test_pred = classify(test_bow_features, theta, theta_0)\n",
    "print(accuracy(test_pred, test_labels))"
   ]
  },
  {
   "cell_type": "markdown",
   "metadata": {},
   "source": [
    "Unfortunately, test accuracy drops to 0.77."
   ]
  }
 ],
 "metadata": {
  "kernelspec": {
   "display_name": "Python 3",
   "language": "python",
   "name": "python3"
  },
  "language_info": {
   "codemirror_mode": {
    "name": "ipython",
    "version": 3
   },
   "file_extension": ".py",
   "mimetype": "text/x-python",
   "name": "python",
   "nbconvert_exporter": "python",
   "pygments_lexer": "ipython3",
   "version": "3.7.4"
  }
 },
 "nbformat": 4,
 "nbformat_minor": 2
}
