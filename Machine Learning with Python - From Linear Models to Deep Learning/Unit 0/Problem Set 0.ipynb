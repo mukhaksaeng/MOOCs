{
 "cells": [
  {
   "cell_type": "code",
   "execution_count": 2,
   "metadata": {},
   "outputs": [],
   "source": [
    "import numpy as np"
   ]
  },
  {
   "cell_type": "markdown",
   "metadata": {},
   "source": [
    "# PROBLEM 1: Randomization\n",
    "\n",
    "Write a function called `randomization` that takes as input a positive integer `n`, and returns `A`, a random n x 1 Numpy array. "
   ]
  },
  {
   "cell_type": "code",
   "execution_count": 3,
   "metadata": {},
   "outputs": [
    {
     "data": {
      "text/plain": [
       "array([[0.6502417 ],\n",
       "       [0.95392092],\n",
       "       [0.01392645],\n",
       "       [0.27891477],\n",
       "       [0.8354518 ]])"
      ]
     },
     "execution_count": 3,
     "metadata": {},
     "output_type": "execute_result"
    }
   ],
   "source": [
    "def randomization(n):\n",
    "    A = np.random.random([n, 1])\n",
    "    return A\n",
    "\n",
    "randomization(5)"
   ]
  },
  {
   "cell_type": "markdown",
   "metadata": {},
   "source": [
    "# PROBLEM 2: Operations\n",
    "\n",
    "Write a function called `operations` that takes as input two positive integers `h` and `w`, makes two random matrices `A` and `B`, of size `h`x`w`, and returns `A`, `B`, and `s`, the sum of `A` and `B`. "
   ]
  },
  {
   "cell_type": "code",
   "execution_count": 6,
   "metadata": {},
   "outputs": [
    {
     "data": {
      "text/plain": [
       "(array([[0.27913245, 0.19346835],\n",
       "        [0.29666298, 0.50053909],\n",
       "        [0.09736959, 0.02016392],\n",
       "        [0.56860015, 0.60742276],\n",
       "        [0.84627024, 0.84360978]]), array([[0.32613911, 0.47876753],\n",
       "        [0.71306359, 0.72761552],\n",
       "        [0.83276888, 0.41337332],\n",
       "        [0.72795509, 0.48257398],\n",
       "        [0.09781705, 0.24983718]]), array([[0.60527156, 0.67223588],\n",
       "        [1.00972657, 1.2281546 ],\n",
       "        [0.93013847, 0.43353724],\n",
       "        [1.29655524, 1.08999674],\n",
       "        [0.94408729, 1.09344696]]))"
      ]
     },
     "execution_count": 6,
     "metadata": {},
     "output_type": "execute_result"
    }
   ],
   "source": [
    "def operations(h, w):\n",
    "    A = np.random.random([h, w])\n",
    "    B = np.random.random([h, w])\n",
    "    s = A + B\n",
    "    return A, B, s\n",
    "\n",
    "operations(5, 2)"
   ]
  },
  {
   "cell_type": "markdown",
   "metadata": {},
   "source": [
    "# PROBLEM 3: Norm\n",
    "\n",
    "Write a function called `norm` that takes as input two Numpy column arrays `A` and `B`, adds them, and returns `s`, the L2 norm of their sum. "
   ]
  },
  {
   "cell_type": "code",
   "execution_count": 12,
   "metadata": {},
   "outputs": [
    {
     "data": {
      "text/plain": [
       "2.0"
      ]
     },
     "execution_count": 12,
     "metadata": {},
     "output_type": "execute_result"
    }
   ],
   "source": [
    "def norm(A, B):\n",
    "    s = np.linalg.norm(A + B)\n",
    "    return s\n",
    "\n",
    "A = np.array([1, 0, 1, 0])\n",
    "B = np.array([0, 1, 0, 1])\n",
    "norm(A, B)"
   ]
  },
  {
   "cell_type": "markdown",
   "metadata": {},
   "source": [
    "# PROBLEM 4: Neural Network\n",
    "\n",
    "Here, we will write a function `neural_network`, which will apply a neural network operation with 2 inputs and 1 output and a given weight matrix.\n",
    "\n",
    "Your function should take two arguments: `inputs` and `weights`, two NumPy arrays of shape (2,1) and should return a NumPy array of shape (1,1), the output of the neural network. Do not forget the tanh activation. "
   ]
  },
  {
   "cell_type": "code",
   "execution_count": null,
   "metadata": {},
   "outputs": [],
   "source": [
    "def neural_network(inputs, weights):\n",
    "    out = np.tanh(np.matmul(weights.transpose(), inputs))\n",
    "    return out"
   ]
  },
  {
   "cell_type": "markdown",
   "metadata": {},
   "source": [
    "# PROBLEM 5: Scalar Function\n",
    "\n",
    "Let's start with writing a scalar function `scalar_function`, which will apply the following operation with input `x` and `y`.\n",
    "\n",
    "$\n",
    "\\begin{equation}\n",
    "f(x, y) = \n",
    "\\left\\{\n",
    "\\begin{array}{ll}\n",
    "      x \\cdot y & x\\leq y \\\\\n",
    "      \\frac{x}{y} & otherwise \\\\\n",
    "\\end{array} \n",
    "\\right.\n",
    "\\end{equation}\n",
    "$\n",
    "\n",
    "Note that `x` and `y` are scalars. "
   ]
  },
  {
   "cell_type": "code",
   "execution_count": 14,
   "metadata": {},
   "outputs": [],
   "source": [
    "def scalar_function(x, y):\n",
    "    if x <= y:\n",
    "        return x * y\n",
    "    else:\n",
    "        return x / y"
   ]
  },
  {
   "cell_type": "markdown",
   "metadata": {},
   "source": [
    "# PROBLEM 6: Vector Function\n",
    "\n",
    "`scalar_function` can only handle scalar input, we could use the function `np.vectorize()` turn it into a vectorized function. Note that the input argument of `np.vectorize()` should be a scalar function, and the output of `np.vectorize()` is a new function that can handle vector input.\n",
    "\n",
    "Please write a vector function `vector_function`, which will apply the operation $f(x,y)$ defined above element-wisely with input vectors with same dimension `x` and `y`. "
   ]
  },
  {
   "cell_type": "code",
   "execution_count": 16,
   "metadata": {},
   "outputs": [
    {
     "data": {
      "text/plain": [
       "array([2. , 1.5])"
      ]
     },
     "execution_count": 16,
     "metadata": {},
     "output_type": "execute_result"
    }
   ],
   "source": [
    "def vector_function(x, y):\n",
    "    vectorized = np.vectorize(scalar_function)\n",
    "    return vectorized(x, y)\n",
    "\n",
    "vector_function([2, 3], [1, 2])"
   ]
  },
  {
   "cell_type": "markdown",
   "metadata": {},
   "source": [
    "# PROBLEM 7: Debugging Exercise\n",
    "\n",
    "The goal of this exercise is for you to set up a working debugging system for yourselves. (See the next page for an example.) Feel free to use other debuggers as you wish. But note that any extra print statement in submitted code will be graded as incorrect in the online code graders.\n",
    "\n",
    "The function `get_sum_metrics` takes two arguments: a `prediction` and a list of `metrics` to apply to the prediction (say, for instance, the accuracy or the precision). Note that each metric is a function, not a number. The function should compute each of the metrics for the prediction and sum them. It should also add to this sum three default metrics, in this case, adding 0, 1 or 2 to the prediction.\n",
    "\n",
    "Reminder: You should fix this function locally first, and run `python debug.py` in your `project0` directory to make sure it behaves as expected on the simple test cases provided "
   ]
  },
  {
   "cell_type": "code",
   "execution_count": 59,
   "metadata": {},
   "outputs": [],
   "source": [
    "# def get_sum_metrics(predictions, metrics=[]):\n",
    "#     for i in range(3):\n",
    "#         metrics.append(lambda x: x + i)\n",
    "\n",
    "#     sum_metrics = 0\n",
    "#     for metric in metrics:\n",
    "#         sum_metrics += metric(predictions)\n",
    "\n",
    "#     return sum_metrics"
   ]
  },
  {
   "cell_type": "code",
   "execution_count": null,
   "metadata": {},
   "outputs": [],
   "source": [
    "def get_sum_metrics(predictions, metrics = None):\n",
    "    if not metrics:\n",
    "        metrics = []\n",
    "    \n",
    "    for i in range(3):\n",
    "        metrics.append(lambda x, i = i: x + i)\n",
    "    \n",
    "    sum_metrics = 0\n",
    "    for metric in metrics:\n",
    "        sum_metrics += metric(predictions)\n",
    "        print(sum_metrics)\n",
    "\n",
    "    return sum_metrics"
   ]
  }
 ],
 "metadata": {
  "kernelspec": {
   "display_name": "Python 3",
   "language": "python",
   "name": "python3"
  },
  "language_info": {
   "codemirror_mode": {
    "name": "ipython",
    "version": 3
   },
   "file_extension": ".py",
   "mimetype": "text/x-python",
   "name": "python",
   "nbconvert_exporter": "python",
   "pygments_lexer": "ipython3",
   "version": "3.7.4"
  }
 },
 "nbformat": 4,
 "nbformat_minor": 2
}
