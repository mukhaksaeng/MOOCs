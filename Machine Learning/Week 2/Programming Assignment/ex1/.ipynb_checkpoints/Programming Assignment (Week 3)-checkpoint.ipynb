{
 "cells": [
  {
   "cell_type": "code",
   "execution_count": 1,
   "metadata": {},
   "outputs": [],
   "source": [
    "import pandas as pd\n",
    "import numpy as np\n",
    "import matplotlib.pyplot as plt"
   ]
  },
  {
   "cell_type": "markdown",
   "metadata": {},
   "source": [
    "# PROGRAMMING EXERCISE 2: LOGISTIC REGRESSION"
   ]
  },
  {
   "cell_type": "markdown",
   "metadata": {},
   "source": [
    "## 1. Logistic Regression"
   ]
  },
  {
   "cell_type": "code",
   "execution_count": 55,
   "metadata": {},
   "outputs": [],
   "source": [
    "def sigmoid(x):\n",
    "    return 1 / (1 + np.exp(-x))"
   ]
  },
  {
   "cell_type": "code",
   "execution_count": 38,
   "metadata": {},
   "outputs": [],
   "source": [
    "def computeCost(X, y, theta):\n",
    "    # Initialize values\n",
    "    m = len(y)\n",
    "    J = 0\n",
    "    \n",
    "    # Compute cost\n",
    "    prediction = sigmoidVec(X @ theta)\n",
    "    J = -(1 / m) * (y.T @ np.log(prediction) + (1 - y).T @ np.log(1 - prediction))\n",
    "    \n",
    "    return J[0, 0]"
   ]
  },
  {
   "cell_type": "code",
   "execution_count": 10,
   "metadata": {},
   "outputs": [],
   "source": [
    "def gradientDescent(X, y, theta, alpha, num_iters):\n",
    "    # Initialize values\n",
    "    m = len(y)\n",
    "    J_history = np.zeros((num_iters, 1))\n",
    "    \n",
    "    # Perform gradient descent\n",
    "    for i in range(num_iters):\n",
    "        prediction = sigmoidVec(X @ theta)\n",
    "        error = prediction - y\n",
    "        delta = (1 / m) * np.sum(error.T * X.T, axis = 1)[:, np.newaxis]\n",
    "        theta = theta - alpha * delta\n",
    "        \n",
    "        # Save the cost of J in every iteration\n",
    "        J_history[i, :] = computeCost(X, y, theta)\n",
    "    \n",
    "    return theta, J_history"
   ]
  },
  {
   "cell_type": "code",
   "execution_count": 53,
   "metadata": {},
   "outputs": [
    {
     "name": "stdout",
     "output_type": "stream",
     "text": [
      "0.6931471805599453\n"
     ]
    }
   ],
   "source": [
    "X = np.array([[1, 1, 0.5], [1, 1, 1.5], [1, 2, 1], [1, 3, 1]])\n",
    "y = np.array([0, 0, 1, 0]).reshape(-1, 1)\n",
    "theta = np.zeros((3, 1))\n",
    "\n",
    "print(computeCost(X, y, theta))"
   ]
  },
  {
   "cell_type": "code",
   "execution_count": 43,
   "metadata": {},
   "outputs": [
    {
     "name": "stdout",
     "output_type": "stream",
     "text": [
      "[[-1.29547938]\n",
      " [ 0.38526757]\n",
      " [-0.47638651]]\n"
     ]
    }
   ],
   "source": [
    "alpha = 0.01\n",
    "num_iters = 2000\n",
    "\n",
    "theta, J_history = gradientDescent(X, y, theta, alpha, num_iters)\n",
    "print(theta)"
   ]
  },
  {
   "cell_type": "code",
   "execution_count": 44,
   "metadata": {},
   "outputs": [
    {
     "data": {
      "text/plain": [
       "Text(0, 0.5, '$J(\\\\theta)$')"
      ]
     },
     "execution_count": 44,
     "metadata": {},
     "output_type": "execute_result"
    },
    {
     "data": {
      "image/png": "[encoded data removed]",
      "text/plain": [
       "<Figure size 432x288 with 1 Axes>"
      ]
     },
     "metadata": {
      "needs_background": "light"
     },
     "output_type": "display_data"
    }
   ],
   "source": [
    "# Plot the convergence graph\n",
    "plt.plot(range(1, num_iters + 1), J_history)\n",
    "plt.xlabel(\"Number of iterations\")\n",
    "plt.ylabel(\"$J(\\\\theta)$\")"
   ]
  },
  {
   "cell_type": "code",
   "execution_count": 54,
   "metadata": {},
   "outputs": [
    {
     "name": "stdout",
     "output_type": "stream",
     "text": [
      "0.6931471805599453\n"
     ]
    }
   ],
   "source": [
    "X = np.array([[1, 1, 0.5, 1 ** 2, 1 * 0.5, 0.5 ** 2], [1, 1, 1.5, 1 ** 2, 1 * 1.5, 1.5 ** 2], [1, 2, 1, 2 ** 2, 2 * 1, 1 ** 2], [1, 3, 1, 3 ** 2, 3 * 1, 1 ** 2]])\n",
    "y = np.array([0, 0, 1, 0]).reshape(-1, 1)\n",
    "theta = np.zeros((6, 1))\n",
    "\n",
    "print(computeCost(X, y, theta))"
   ]
  },
  {
   "cell_type": "code",
   "execution_count": 51,
   "metadata": {},
   "outputs": [
    {
     "name": "stdout",
     "output_type": "stream",
     "text": [
      "[[-4.25324923]\n",
      " [ 3.09999707]\n",
      " [-0.95235947]\n",
      " [-2.47424046]\n",
      " [ 6.40088683]\n",
      " [-3.08818485]]\n"
     ]
    }
   ],
   "source": [
    "alpha = 0.01\n",
    "num_iters = 2000\n",
    "\n",
    "theta, J_history = gradientDescent(X, y, theta, alpha, num_iters)\n",
    "print(theta)"
   ]
  },
  {
   "cell_type": "code",
   "execution_count": 52,
   "metadata": {},
   "outputs": [
    {
     "data": {
      "text/plain": [
       "Text(0, 0.5, '$J(\\\\theta)$')"
      ]
     },
     "execution_count": 52,
     "metadata": {},
     "output_type": "execute_result"
    },
    {
     "data": {
      "image/png": "[encoded data removed]",
      "text/plain": [
       "<Figure size 432x288 with 1 Axes>"
      ]
     },
     "metadata": {
      "needs_background": "light"
     },
     "output_type": "display_data"
    }
   ],
   "source": [
    "# Plot the convergence graph\n",
    "plt.plot(range(1, num_iters + 1), J_history)\n",
    "plt.xlabel(\"Number of iterations\")\n",
    "plt.ylabel(\"$J(\\\\theta)$\")"
   ]
  },
  {
   "cell_type": "code",
   "execution_count": null,
   "metadata": {},
   "outputs": [],
   "source": []
  }
 ],
 "metadata": {
  "kernelspec": {
   "display_name": "Python 3",
   "language": "python",
   "name": "python3"
  },
  "language_info": {
   "codemirror_mode": {
    "name": "ipython",
    "version": 3
   },
   "file_extension": ".py",
   "mimetype": "text/x-python",
   "name": "python",
   "nbconvert_exporter": "python",
   "pygments_lexer": "ipython3",
   "version": "3.7.4"
  }
 },
 "nbformat": 4,
 "nbformat_minor": 2
}
