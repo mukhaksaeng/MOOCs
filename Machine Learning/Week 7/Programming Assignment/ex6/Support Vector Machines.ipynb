{
 "cells": [
  {
   "cell_type": "code",
   "execution_count": 1,
   "metadata": {},
   "outputs": [],
   "source": [
    "import pandas as pd\n",
    "import numpy as np\n",
    "import matplotlib.pyplot as plt\n",
    "import scipy.io as io\n",
    "from sklearn.svm import SVC\n",
    "import re\n",
    "from nltk.stem import PorterStemmer"
   ]
  },
  {
   "cell_type": "markdown",
   "metadata": {},
   "source": [
    "# Programming Exercise 6: Support Vector Machines"
   ]
  },
  {
   "cell_type": "markdown",
   "metadata": {},
   "source": [
    "## 1. Support Vector Machines"
   ]
  },
  {
   "cell_type": "markdown",
   "metadata": {},
   "source": [
    "In the section, we will be using support vector machines (SVMs) with various example 2D datasets. Experimenting with these datasets will help us gain an intuition of how SVMs work and how to use a Gaussian kernel with SVMs. "
   ]
  },
  {
   "cell_type": "markdown",
   "metadata": {},
   "source": [
    "### 1.1 Example Dataset 1"
   ]
  },
  {
   "cell_type": "markdown",
   "metadata": {},
   "source": [
    "We will begin by with a 2D example dataset which can be separated by a linear boundary. However notice that there is an outlier positive example on the far left at about (0.1, 4.1). As part of this section, we will also see how this outlier affects the SVM decision boundary."
   ]
  },
  {
   "cell_type": "markdown",
   "metadata": {},
   "source": [
    "We first load the dataset and plot it."
   ]
  },
  {
   "cell_type": "code",
   "execution_count": 2,
   "metadata": {},
   "outputs": [],
   "source": [
    "# Read .mat file\n",
    "data = io.loadmat('ex6data1.mat')\n",
    "\n",
    "# Separate into X and y values\n",
    "X = data[\"X\"]\n",
    "y = data[\"y\"]"
   ]
  },
  {
   "cell_type": "code",
   "execution_count": 3,
   "metadata": {},
   "outputs": [
    {
     "data": {
      "text/plain": [
       "<matplotlib.collections.PathCollection at 0x2ba150f8448>"
      ]
     },
     "execution_count": 3,
     "metadata": {},
     "output_type": "execute_result"
    },
    {
     "data": {
      "image/png": "[encoded data removed]",
      "text/plain": [
       "<Figure size 432x288 with 1 Axes>"
      ]
     },
     "metadata": {
      "needs_background": "light"
     },
     "output_type": "display_data"
    }
   ],
   "source": [
    "# Plot the data\n",
    "plt.scatter(X[np.ravel(y == 1), 0], X[np.ravel(y == 1), 1], marker = \"+\", s = 30, linewidths = 2, color = \"black\")\n",
    "plt.scatter(X[np.ravel(y == 0), 0], X[np.ravel(y == 0), 1], marker = \"o\", s = 30, color = \"yellow\", linewidths = 0.5, edgecolor = \"black\")"
   ]
  },
  {
   "cell_type": "markdown",
   "metadata": {},
   "source": [
    "In this part of the exercise, we will try using different values of the $C$ parameter with SVMs. Informally, the $C$ parameter is a positive value that controls the penalty for misclassified training examples. A large $C$ parameter tells the SVM to try to classify all the examples correctly. $C$ plays a role similar to $\\frac{1}{\\lambda}$, where $\\lambda$ is the regularization parameter that we were using previously for logistic regression."
   ]
  },
  {
   "cell_type": "markdown",
   "metadata": {},
   "source": [
    "The following code runs the SVM training (with $C$ = 1). Because the cost function for SVM is non-differentiable, we cannot employ gradient descent. In the Octave files, we find that we use the SMO algorithm to minimize the SVM cost function. Because this is too complex even for this programming assignment, for our purposes, we will be using the scikit-learn implementation of SVM. We use `np.ravel(y)` to change `y` into a 1D array, as per SVC's requirements."
   ]
  },
  {
   "cell_type": "code",
   "execution_count": 4,
   "metadata": {},
   "outputs": [
    {
     "data": {
      "text/plain": [
       "SVC(C=1, cache_size=200, class_weight=None, coef0=0.0,\n",
       "    decision_function_shape='ovr', degree=3, gamma='auto_deprecated',\n",
       "    kernel='linear', max_iter=-1, probability=False, random_state=None,\n",
       "    shrinking=True, tol=0.001, verbose=False)"
      ]
     },
     "execution_count": 4,
     "metadata": {},
     "output_type": "execute_result"
    }
   ],
   "source": [
    "# Train SVM with C = 1\n",
    "classifier = SVC(C = 1, kernel = \"linear\")\n",
    "classifier.fit(X, np.ravel(y))"
   ]
  },
  {
   "cell_type": "code",
   "execution_count": 5,
   "metadata": {},
   "outputs": [
    {
     "data": {
      "text/plain": [
       "[<matplotlib.lines.Line2D at 0x2ba151c4e48>]"
      ]
     },
     "execution_count": 5,
     "metadata": {},
     "output_type": "execute_result"
    },
    {
     "data": {
      "image/png": "[encoded data removed]",
      "text/plain": [
       "<Figure size 432x288 with 1 Axes>"
      ]
     },
     "metadata": {
      "needs_background": "light"
     },
     "output_type": "display_data"
    }
   ],
   "source": [
    "# Plot the data\n",
    "plt.scatter(X[np.ravel(y == 1), 0], X[np.ravel(y == 1), 1], marker = \"+\", s = 30, linewidths = 2, color = \"black\")\n",
    "plt.scatter(X[np.ravel(y == 0), 0], X[np.ravel(y == 0), 1], marker = \"o\", s = 30, color = \"yellow\", linewidths = 0.5, edgecolor = \"black\")\n",
    "\n",
    "# Plot the decision boundary\n",
    "w = classifier.coef_\n",
    "b = classifier.intercept_\n",
    "x_plot = np.linspace(np.min(X[:, 0]), np.max(X[:, 0]), 100)\n",
    "y_plot = - (w[0, 0] * x_plot + b) / w[0, 1]\n",
    "plt.plot(x_plot, y_plot)"
   ]
  },
  {
   "cell_type": "markdown",
   "metadata": {},
   "source": [
    "When C = 1, we find that the SVM puts the decision boundary in the gap between the two datasets and misclassifies the data point on the far left. Let's try increasing $C$ to 100 and see what happens. We expect the classifier to prioritize the accurate classification of all data points, and so it will move to classify the positive point on the far left correctly. This comes at the expense of having a rather unnatural looking decision boundary."
   ]
  },
  {
   "cell_type": "code",
   "execution_count": 6,
   "metadata": {},
   "outputs": [
    {
     "data": {
      "text/plain": [
       "SVC(C=100, cache_size=200, class_weight=None, coef0=0.0,\n",
       "    decision_function_shape='ovr', degree=3, gamma='auto_deprecated',\n",
       "    kernel='linear', max_iter=-1, probability=False, random_state=None,\n",
       "    shrinking=True, tol=0.001, verbose=False)"
      ]
     },
     "execution_count": 6,
     "metadata": {},
     "output_type": "execute_result"
    }
   ],
   "source": [
    "# Train SVM with C = 1\n",
    "classifier = SVC(C = 100, kernel = \"linear\")\n",
    "classifier.fit(X, np.ravel(y))"
   ]
  },
  {
   "cell_type": "code",
   "execution_count": 7,
   "metadata": {},
   "outputs": [
    {
     "data": {
      "text/plain": [
       "[<matplotlib.lines.Line2D at 0x2ba1524ce88>]"
      ]
     },
     "execution_count": 7,
     "metadata": {},
     "output_type": "execute_result"
    },
    {
     "data": {
      "image/png": "[encoded data removed]",
      "text/plain": [
       "<Figure size 432x288 with 1 Axes>"
      ]
     },
     "metadata": {
      "needs_background": "light"
     },
     "output_type": "display_data"
    }
   ],
   "source": [
    "# Plot the data\n",
    "plt.scatter(X[np.ravel(y == 1), 0], X[np.ravel(y == 1), 1], marker = \"+\", s = 30, linewidths = 2, color = \"black\")\n",
    "plt.scatter(X[np.ravel(y == 0), 0], X[np.ravel(y == 0), 1], marker = \"o\", s = 30, color = \"yellow\", linewidths = 0.5, edgecolor = \"black\")\n",
    "\n",
    "# Plot the decision boundary\n",
    "w = classifier.coef_\n",
    "b = classifier.intercept_\n",
    "x_plot = np.linspace(np.min(X[:, 0]), np.max(X[:, 0]), 100)\n",
    "y_plot = - (w[0, 0] * x_plot + b) / w[0, 1]\n",
    "plt.plot(x_plot, y_plot)"
   ]
  },
  {
   "cell_type": "markdown",
   "metadata": {},
   "source": [
    "As expected, when C = 100, we find that the SVM now classifies every single example correctly, but has a decision boundary that does not appear to be a natural fit for the data."
   ]
  },
  {
   "cell_type": "markdown",
   "metadata": {},
   "source": [
    "### 1.2 SVM with Gaussian Kernels"
   ]
  },
  {
   "cell_type": "markdown",
   "metadata": {},
   "source": [
    "We will now be using SVMs to do non-linear classification. In particular, we will be using SVMs with Gaussian kernels on datasets that are not linearly separable."
   ]
  },
  {
   "cell_type": "markdown",
   "metadata": {},
   "source": [
    "#### 1.2.1 Gaussian Kernel"
   ]
  },
  {
   "cell_type": "markdown",
   "metadata": {},
   "source": [
    "To find non-linear decision boundaries with the SVM, we need to first implement a Gaussian kernel. You can think of the Gaussian kernel as a similarity function that measures the “distance” between a pair of examples, $(x^{(i)}, x^{(j)})$. More specifically, the Gaussian kernel function is defined as:\n",
    "\n",
    "$K_{gaussian}(x^{(i)}, x^{(j)}) = \\exp{\\left( -\\frac{||x^{(i)} - x^{(j)}||^{2}}{2 \\sigma^{2}} \\right)} = \\exp{\\left(- \\frac{\\sum_{k = 1}^{n} (x_{k}^{(i)} - x_{k}^{(j)})^{2}}{2 \\sigma^{2}} \\right)}$\n",
    "\n",
    "The Gaussian kernel is also parameterized by a bandwidth parameter, $\\sigma$ (Note that `gamma` in sklearn.svm.SVC is $\\frac{1}{\\sigma}$), which determines how fast the similarity metric decreases (to 0) as the examples are further apart."
   ]
  },
  {
   "cell_type": "markdown",
   "metadata": {},
   "source": [
    "The function `gaussianKernel` computes the Gaussian kernel between two such examples and is coded below."
   ]
  },
  {
   "cell_type": "code",
   "execution_count": 8,
   "metadata": {},
   "outputs": [],
   "source": [
    "#gaussianKernel returns a radial basis function kernel between x1 and x2\n",
    "def gaussianKernel(x1, x2, sigma):\n",
    "    return np.exp(-(np.linalg.norm(x1 - x2) ** 2) / (2 * sigma ** 2))"
   ]
  },
  {
   "cell_type": "code",
   "execution_count": 9,
   "metadata": {},
   "outputs": [
    {
     "name": "stdout",
     "output_type": "stream",
     "text": [
      "Gaussian Kernel between x1 = [1, 2, 1], x2 = [0, 4, -1], sigma = 2:  0.32465246735834974\n",
      "For sigma = 2, this value should be about 0.324652.\n"
     ]
    }
   ],
   "source": [
    "#TESTS\n",
    "x1 = np.array([1, 2, 1])\n",
    "x2 = np.array([0, 4, -1])\n",
    "sigma = 2\n",
    "sim = gaussianKernel(x1, x2, sigma)\n",
    "\n",
    "print(\"Gaussian Kernel between x1 = [1, 2, 1], x2 = [0, 4, -1], sigma = 2: \", sim)\n",
    "print(\"For sigma = 2, this value should be about 0.324652.\")  "
   ]
  },
  {
   "cell_type": "markdown",
   "metadata": {},
   "source": [
    "`sklearn.svm.SVC` provides an option to allow us to train our models using a Gaussian/RBF (radial basis function) kernel."
   ]
  },
  {
   "cell_type": "markdown",
   "metadata": {},
   "source": [
    "#### 1.2.2 Example Dataset 2"
   ]
  },
  {
   "cell_type": "markdown",
   "metadata": {},
   "source": [
    "We will now be dealing with linearly inseparable datasets and use SVM for nonlinear classification. As usual, we first load the dataset and plot it."
   ]
  },
  {
   "cell_type": "code",
   "execution_count": 10,
   "metadata": {},
   "outputs": [],
   "source": [
    "# Read .mat file\n",
    "data = io.loadmat('ex6data2.mat')\n",
    "\n",
    "# Separate into X and y values\n",
    "X = data[\"X\"]\n",
    "y = data[\"y\"]"
   ]
  },
  {
   "cell_type": "code",
   "execution_count": 11,
   "metadata": {},
   "outputs": [
    {
     "data": {
      "text/plain": [
       "<matplotlib.collections.PathCollection at 0x2ba15242cc8>"
      ]
     },
     "execution_count": 11,
     "metadata": {},
     "output_type": "execute_result"
    },
    {
     "data": {
      "image/png": "[encoded data removed]",
      "text/plain": [
       "<Figure size 432x288 with 1 Axes>"
      ]
     },
     "metadata": {
      "needs_background": "light"
     },
     "output_type": "display_data"
    }
   ],
   "source": [
    "# Plot the data\n",
    "plt.scatter(X[np.ravel(y == 1), 0], X[np.ravel(y == 1), 1], marker = \"+\", s = 30, linewidths = 2, color = \"black\")\n",
    "plt.scatter(X[np.ravel(y == 0), 0], X[np.ravel(y == 0), 1], marker = \"o\", s = 30, color = \"yellow\", linewidths = 0.5, edgecolor = \"black\")"
   ]
  },
  {
   "cell_type": "markdown",
   "metadata": {},
   "source": [
    "From the figure, we can observe that there is no linear decision boundary that separates the positive and negative examples for this dataset. However, by using the Gaussian kernel with the SVM, you will be able to learn a nonlinear decision boundary that can perform reasonably well for the dataset. We implement this in the following code snippet."
   ]
  },
  {
   "cell_type": "code",
   "execution_count": 12,
   "metadata": {},
   "outputs": [
    {
     "data": {
      "text/plain": [
       "SVC(C=1.0, cache_size=200, class_weight=None, coef0=0.0,\n",
       "    decision_function_shape='ovr', degree=3, gamma=25, kernel='rbf',\n",
       "    max_iter=-1, probability=False, random_state=None, shrinking=True,\n",
       "    tol=0.001, verbose=False)"
      ]
     },
     "execution_count": 12,
     "metadata": {},
     "output_type": "execute_result"
    }
   ],
   "source": [
    "# Train SVM with Gaussian Kernel\n",
    "classifier = SVC(kernel = \"rbf\", gamma = 25)\n",
    "classifier.fit(X, np.ravel(y))"
   ]
  },
  {
   "cell_type": "code",
   "execution_count": 13,
   "metadata": {},
   "outputs": [
    {
     "data": {
      "text/plain": [
       "<matplotlib.contour.QuadContourSet at 0x2ba15336788>"
      ]
     },
     "execution_count": 13,
     "metadata": {},
     "output_type": "execute_result"
    },
    {
     "data": {
      "image/png": "[encoded data removed]",
      "text/plain": [
       "<Figure size 432x288 with 1 Axes>"
      ]
     },
     "metadata": {
      "needs_background": "light"
     },
     "output_type": "display_data"
    }
   ],
   "source": [
    "# Plot the data\n",
    "plt.scatter(X[np.ravel(y == 1), 0], X[np.ravel(y == 1), 1], marker = \"+\", s = 30, linewidths = 2, color = \"black\")\n",
    "plt.scatter(X[np.ravel(y == 0), 0], X[np.ravel(y == 0), 1], marker = \"o\", s = 30, color = \"yellow\", linewidths = 0.5, edgecolor = \"black\")\n",
    "\n",
    "# Plot the decision boundary\n",
    "x_plot = np.linspace(np.min(X[:, 0]), np.max(X[:, 0]), 100)\n",
    "X1, X2 = np.meshgrid(x_plot, x_plot)\n",
    "plt.contour(X1, X2, classifier.predict(np.array([X1.ravel(),X2.ravel()]).T).reshape(X1.shape), colors = \"b\", linewidths = 0.25)"
   ]
  },
  {
   "cell_type": "markdown",
   "metadata": {},
   "source": [
    "The figure above shows the decision boundary found by the SVM with a Gaussian kernel. The decision boundary is able to separate most of the positive and negative examples correctly and follows the contours of the dataset well."
   ]
  },
  {
   "cell_type": "markdown",
   "metadata": {},
   "source": [
    "#### 1.2.3 Example Dataset 3"
   ]
  },
  {
   "cell_type": "markdown",
   "metadata": {},
   "source": [
    "For this dataset, we want to use the cross validation set `Xval`, `yval` to determine the best $C$ and $\\sigma$ (or `gamma`) parameter to use. As with before, we load the dataset and plot it."
   ]
  },
  {
   "cell_type": "code",
   "execution_count": 14,
   "metadata": {},
   "outputs": [],
   "source": [
    "# Read .mat file\n",
    "data = io.loadmat('ex6data3.mat')\n",
    "\n",
    "# Separate into X and y values\n",
    "X = data[\"X\"]\n",
    "y = data[\"y\"]\n",
    "Xval = data[\"Xval\"]\n",
    "yval = data[\"yval\"]"
   ]
  },
  {
   "cell_type": "code",
   "execution_count": 15,
   "metadata": {},
   "outputs": [
    {
     "data": {
      "text/plain": [
       "<matplotlib.collections.PathCollection at 0x2ba1539c408>"
      ]
     },
     "execution_count": 15,
     "metadata": {},
     "output_type": "execute_result"
    },
    {
     "data": {
      "image/png": "[encoded data removed]",
      "text/plain": [
       "<Figure size 432x288 with 1 Axes>"
      ]
     },
     "metadata": {
      "needs_background": "light"
     },
     "output_type": "display_data"
    }
   ],
   "source": [
    "# Plot the training data\n",
    "plt.scatter(X[np.ravel(y == 1), 0], X[np.ravel(y == 1), 1], marker = \"+\", s = 30, linewidths = 2, color = \"black\")\n",
    "plt.scatter(X[np.ravel(y == 0), 0], X[np.ravel(y == 0), 1], marker = \"o\", s = 30, color = \"yellow\", linewidths = 0.5, edgecolor = \"black\")"
   ]
  },
  {
   "cell_type": "markdown",
   "metadata": {},
   "source": [
    "The function `dataset3Params` implements the choice of hyperparameters $C$ and $\\sigma$. We try values for each parameter in multiplicative steps (e.g., 0.01, 0.03, 0.1, 0.3, 1, 3, 10, 30) and train an SVC classifier for each one, taking note of which combination gives the best accuracy. The code is as follows. "
   ]
  },
  {
   "cell_type": "code",
   "execution_count": 16,
   "metadata": {},
   "outputs": [],
   "source": [
    "#dataset3Params returns the optimal choice of learning parameters (C, sigma) for SVM with RBF kernel\n",
    "def dataset3Params(X, y, Xval, yval, values):\n",
    "    # Initialize variables\n",
    "    bestAcc = 0\n",
    "    bestC = 0\n",
    "    bestSigma = 0\n",
    "    \n",
    "    # Run through all values of C and sigma\n",
    "    for C in values:\n",
    "        for sigma in values:\n",
    "            \n",
    "            # Compute for gamma\n",
    "            gamma = 1 / sigma\n",
    "            \n",
    "            # Train classifier on training data\n",
    "            classifier = SVC(C = C, kernel = \"rbf\", gamma = gamma)\n",
    "            classifier.fit(X, np.ravel(y))\n",
    "            \n",
    "            # Compute for accuracy in cross-validation data\n",
    "            score = classifier.score(Xval, yval)\n",
    "            \n",
    "            # Get bestAcc, bestC and bestSigma\n",
    "            if score > bestAcc:\n",
    "                bestAcc = score\n",
    "                bestC = C\n",
    "                bestSigma = 1 / gamma\n",
    "        \n",
    "    return bestC, bestSigma"
   ]
  },
  {
   "cell_type": "markdown",
   "metadata": {},
   "source": [
    "We can now proceed with choosing the best hyperparameters and training a classifier with the selected ones."
   ]
  },
  {
   "cell_type": "code",
   "execution_count": 17,
   "metadata": {},
   "outputs": [
    {
     "name": "stdout",
     "output_type": "stream",
     "text": [
      "The best values for C and gamma are: C =  0.3  and gamma =  100.0\n"
     ]
    },
    {
     "data": {
      "text/plain": [
       "<matplotlib.contour.QuadContourSet at 0x2ba1543e808>"
      ]
     },
     "execution_count": 17,
     "metadata": {},
     "output_type": "execute_result"
    },
    {
     "data": {
      "image/png": "[encoded data removed]",
      "text/plain": [
       "<Figure size 432x288 with 1 Axes>"
      ]
     },
     "metadata": {
      "needs_background": "light"
     },
     "output_type": "display_data"
    }
   ],
   "source": [
    "# Select C and sigma\n",
    "values = [0.01, 0.03, 0.1, 0.3, 1, 3, 10, 30]\n",
    "C, sigma = dataset3Params(X, y, Xval, yval, values)\n",
    "print(\"The best values for C and gamma are: C = \", C, \" and gamma = \", 1 / sigma)\n",
    "\n",
    "# Train classifier\n",
    "classifier = SVC(C = C, kernel = \"rbf\", gamma = 1 / sigma)\n",
    "classifier.fit(X, np.ravel(y))\n",
    "\n",
    "# Plot the training data\n",
    "plt.scatter(X[np.ravel(y == 1), 0], X[np.ravel(y == 1), 1], marker = \"+\", s = 30, linewidths = 2, color = \"black\")\n",
    "plt.scatter(X[np.ravel(y == 0), 0], X[np.ravel(y == 0), 1], marker = \"o\", s = 30, color = \"yellow\", linewidths = 0.5, edgecolor = \"black\")\n",
    "\n",
    "# Plot the decision boundary\n",
    "x_plot = np.linspace(np.min(X[:, 0]), np.max(X[:, 0]), 100)\n",
    "X1, X2 = np.meshgrid(x_plot, x_plot)\n",
    "plt.contour(X1, X2, classifier.predict(np.array([X1.ravel(),X2.ravel()]).T).reshape(X1.shape), colors = \"b\", linewidths = 0.25)"
   ]
  },
  {
   "cell_type": "markdown",
   "metadata": {},
   "source": [
    "In our case, the best values are $C$ = 100 and $\\sigma$ = 0.01 (or `gamma` = 100). These parameters result in a classifier forming the decision boundary shown above, which seems like a natural fit for the data at hand."
   ]
  },
  {
   "cell_type": "markdown",
   "metadata": {},
   "source": [
    "## 2. Spam Classification"
   ]
  },
  {
   "cell_type": "markdown",
   "metadata": {},
   "source": [
    "Many email services today provide spam filters that are able to classify emails into spam and non-spam email with high accuracy. In this section, we will use SVMs to build our own spam filter. We will be training a classifier to classify whether a given email, $x$, is spam ($y$ = 1) or non-spam ($y$ = 0). In particular, we need to convert each email into a feature vector $x$ (an $n$-dimensional vector)."
   ]
  },
  {
   "cell_type": "markdown",
   "metadata": {},
   "source": [
    "### 2.1 Email Dataset"
   ]
  },
  {
   "cell_type": "markdown",
   "metadata": {},
   "source": [
    "The dataset included for this section is based on a subset of the Spam Assassin Public Corpus.3 For the purpose of this exercise, we will only be using the body of the email.\n",
    "\n",
    "We load the file `emailSample1.txt` to get a feel of the type of data we'll be dealing with."
   ]
  },
  {
   "cell_type": "code",
   "execution_count": 18,
   "metadata": {},
   "outputs": [
    {
     "data": {
      "text/plain": [
       "\"> Anyone knows how much it costs to host a web portal ?\\n>\\nWell, it depends on how many visitors you're expecting.\\nThis can be anywhere from less than 10 bucks a month to a couple of $100. \\nYou should checkout http://www.rackspace.com/ or perhaps Amazon EC2 \\nif youre running something big..\\n\\nTo unsubscribe yourself from this mailing list, send an email to:\\ngroupname-unsubscribe@egroups.com\\n\\n\""
      ]
     },
     "execution_count": 18,
     "metadata": {},
     "output_type": "execute_result"
    }
   ],
   "source": [
    "sample_email = open(\"emailSample1.txt\", \"r\").read()\n",
    "sample_email"
   ]
  },
  {
   "cell_type": "markdown",
   "metadata": {},
   "source": [
    "### 2.2 Preprocessing Emails"
   ]
  },
  {
   "cell_type": "markdown",
   "metadata": {},
   "source": [
    "Before starting on a machine learning task, it is usually insightful to take a look at examples from the dataset. The text from `sample_email` shows a sample email that contains a URL, an email address (at the end), numbers, and dollar amounts. While many emails would contain similar types of entities (e.g.,numbers, other URLs, or other email addresses), the specific entities (e.g.,the specific URL or specific dollar amount) will be different in almost every email.\n",
    "\n",
    "Therefore, one method often employed in processing emails is to “normalize” these values, so that all URLs are treated the same, all numbers are treated the same, etc. For example, we could replace each URL in the\n",
    "email with the unique string `httpaddr` to indicate that a URL was present. This has the effect of letting the spam classifier make a classification decision based on whether any URL was present, rather than whether a specific URL was present. This typically improves the performance of a spam classifier, since spammers often randomize the URLs, and thus the odds of seeing any particular URL again in a new piece of spam is very small."
   ]
  },
  {
   "cell_type": "markdown",
   "metadata": {},
   "source": [
    "In the `processEmail` function that follows, we have implemented the following email preprocessing and normalization steps:\n",
    "- <b> Lower-casing </b>: The entire email is converted into lower case, so that captialization is ignored (e.g., `IndIcaTE` is treated the same as `Indicate`).\n",
    "- <b> Stripping HTML </b>: All HTML tags are removed from the emails. Many emails often come with HTML formatting; we remove all the HTML tags, so that only the content remains.\n",
    "- <b> Normalizing Numbers </b>: All numbers are replaced with the text `number`.\n",
    "- <b> Normalizing URLs </b>: All URLs are replaced with the text `httpaddr`.\n",
    "- <b> Normalizing Email Addresses </b>: All email addresses are replaced with the text `emailaddr`.\n",
    "- <b> Normalizing Dollars </b>: All dollar signs are replaced with the text `dollar`.\n",
    "- <b> Word Stemming </b>: Words are reduced to their stemmed form. For example, `discount`, `discounts`, `discounted` and `discounting` are all replaced with `discount`. Sometimes, the stemmer actually strips off additional characters from the end, so `include`, `includes`, `included`, and `including` are all replaced with `includ`.\n",
    "- <b> Removal of non-words </b>: Non-words and punctuation have been removed. All white spaces (tabs, newlines, spaces) have all been trimmed to a single space character."
   ]
  },
  {
   "cell_type": "code",
   "execution_count": 19,
   "metadata": {},
   "outputs": [],
   "source": [
    "#processEmail preprocesses the body of an email and returns a list of word_indices \n",
    "def processEmail(email_contents):\n",
    "    \n",
    "    # Lower-casing\n",
    "    email_contents = email_contents.lower()\n",
    "    \n",
    "    # Stripping HTML\n",
    "    email_contents = re.sub(\"<[^<>]+>\", \" \" , email_contents)\n",
    "    \n",
    "    # Normalizing numbers\n",
    "    email_contents = re.sub(\"[0-9]+\", \"number\" , email_contents)\n",
    "    \n",
    "    # Normalizing URLs\n",
    "    email_contents = re.sub(\"(http|https)://[^\\s]*\", \"httpaddr\" , email_contents)\n",
    "    \n",
    "    # Normalizing email addresses\n",
    "    email_contents = re.sub(\"[^\\s]+@[^\\s]+\", \"emailaddr\" , email_contents)\n",
    "    \n",
    "    # Normalizing dollars\n",
    "    email_contents = re.sub(\"[$]+\", \"dollar\" , email_contents)\n",
    "    \n",
    "    # Get rid of any punctuation\n",
    "    special_char = '@$/#.-:&*+=[]?!(){},''\">_<;%'\n",
    "    for char in special_char:\n",
    "        email_contents = email_contents.replace(str(char),\"\")\n",
    "    \n",
    "    # Get rid of newlines\n",
    "    email_contents = email_contents.replace(\"\\n\",\"\")\n",
    "        \n",
    "    # Stem the word\n",
    "    porter = PorterStemmer()\n",
    "    email_contents = [porter.stem(token) for token in email_contents.split(\" \")]\n",
    "    email_contents = \" \".join(email_contents)\n",
    "\n",
    "    return email_contents"
   ]
  },
  {
   "cell_type": "code",
   "execution_count": 20,
   "metadata": {},
   "outputs": [
    {
     "data": {
      "text/plain": [
       "\" anyon know how much it cost to host a web portal well it depend on how mani visitor you'r expectingthi can be anywher from less than number buck a month to a coupl of dollarnumb you should checkout httpaddr or perhap amazon ecnumb if your run someth bigto unsubscrib yourself from thi mail list send an email toemailaddr\""
      ]
     },
     "execution_count": 20,
     "metadata": {},
     "output_type": "execute_result"
    }
   ],
   "source": [
    "processEmail(sample_email)"
   ]
  },
  {
   "cell_type": "markdown",
   "metadata": {},
   "source": [
    "The result of these preprocessing steps is shown above. While preprocessing has left word fragments and non-words, this form turns out to be much easier to work with for performing feature extraction."
   ]
  },
  {
   "cell_type": "markdown",
   "metadata": {},
   "source": [
    "### 2.2.1 Vocabulary List"
   ]
  },
  {
   "cell_type": "markdown",
   "metadata": {},
   "source": [
    "After preprocessing the emails, we have a list of words for each email (as in the figure above). The next step is to choose which words we would like to use in our classifier and which we would want to leave out."
   ]
  },
  {
   "cell_type": "code",
   "execution_count": 21,
   "metadata": {},
   "outputs": [
    {
     "name": "stdout",
     "output_type": "stream",
     "text": [
      "1 \t aa\n",
      "2 \t ab\n",
      "3 \t abil\n",
      "4 \t abl\n",
      "5 \t about\n",
      "6 \t abov\n",
      "7 \t absolut\n",
      "8 \t abus\n",
      "9 \t ac\n",
      "10 \t accept\n",
      "11 \t access\n",
      "12 \t accord\n",
      "13 \t account\n",
      "14 \t achiev\n",
      "15 \t acquir\n",
      "16 \t across\n",
      "17 \t act\n",
      "18 \t action\n",
      "19 \t activ\n",
      "20 \t actual\n"
     ]
    }
   ],
   "source": [
    "# Load vocabulary list\n",
    "vocabList = open(\"vocab.txt\",\"r\").read()\n",
    "\n",
    "# Split based on endlines\n",
    "vocabList = vocabList.split(\"\\n\")[:-1]\n",
    "\n",
    "# Get index-word mapping\n",
    "vocabDict = {}\n",
    "for pair in vocabList:\n",
    "    value, key = pair.split(\"\\t\")\n",
    "    vocabDict[key]= int(value)\n",
    "\n",
    "# Print first 20 words\n",
    "for word in vocabDict.keys():\n",
    "    print(vocabDict[word], \"\\t\", word)\n",
    "    if vocabDict[word] == 20:\n",
    "        break"
   ]
  },
  {
   "cell_type": "markdown",
   "metadata": {},
   "source": [
    "For this section, we have chosen only the most frequently occuring words as our set of words considered (the vocabulary list). Since words that occur rarely in the training set are only in a few emails, they might cause the\n",
    "model to overfit our training set. The complete vocabulary list is in the file `vocab.txt` (a sample of which is shown above). Our vocabulary list was selected by choosing all words which occur at least a 100 times in the spam corpus, resulting in a list of 1899 words. In practice, a vocabulary list with about 10,000 to 50,000 words is often used."
   ]
  },
  {
   "cell_type": "markdown",
   "metadata": {},
   "source": [
    "Given the vocabulary list, we can now map each word in the preprocessed emails into a list of word indices that contains the index of the word in the vocabulary list. We extend the function `processEmail` to perform this mapping. We show the changes we made in the following code snippet."
   ]
  },
  {
   "cell_type": "code",
   "execution_count": 22,
   "metadata": {},
   "outputs": [],
   "source": [
    "#processEmail preprocesses the body of an email and returns a list of word_indices \n",
    "def processEmail(email_contents):\n",
    "    \n",
    "    # Lower-casing\n",
    "    email_contents = email_contents.lower()\n",
    "    \n",
    "    # Stripping HTML\n",
    "    email_contents = re.sub(\"<[^<>]+>\", \" \" , email_contents)\n",
    "    \n",
    "    # Normalizing numbers\n",
    "    email_contents = re.sub(\"[0-9]+\", \"number\" , email_contents)\n",
    "    \n",
    "    # Normalizing URLs\n",
    "    email_contents = re.sub(\"(http|https)://[^\\s]*\", \"httpaddr\" , email_contents)\n",
    "    \n",
    "    # Normalizing email addresses\n",
    "    email_contents = re.sub(\"[^\\s]+@[^\\s]+\", \"emailaddr\" , email_contents)\n",
    "    \n",
    "    # Normalizing dollars\n",
    "    email_contents = re.sub(\"[$]+\", \"dollar\" , email_contents)\n",
    "    \n",
    "    # Get rid of any punctuation\n",
    "    special_char = '@$/#.-:&*+=[]?!(){},''\">_<;%'\n",
    "    for char in special_char:\n",
    "        email_contents = email_contents.replace(str(char),\"\")\n",
    "    \n",
    "    # Get rid of newlines\n",
    "    email_contents = email_contents.replace(\"\\n\",\"\")\n",
    "        \n",
    "    # Stem the word\n",
    "    porter = PorterStemmer()\n",
    "    email_contents = [porter.stem(token) for token in email_contents.split(\" \")]\n",
    "    email_contents = \" \".join(email_contents)\n",
    "    \n",
    "    # Create word indices\n",
    "    word_indices = []\n",
    "    for string in email_contents.split():\n",
    "        if len(string) > 1 and string in vocabDict.keys():\n",
    "            word_indices.append(vocabDict[string])\n",
    "\n",
    "    return word_indices, email_contents"
   ]
  },
  {
   "cell_type": "code",
   "execution_count": 23,
   "metadata": {},
   "outputs": [
    {
     "data": {
      "text/plain": [
       "[86,\n",
       " 916,\n",
       " 794,\n",
       " 1077,\n",
       " 883,\n",
       " 370,\n",
       " 1699,\n",
       " 790,\n",
       " 1822,\n",
       " 1831,\n",
       " 883,\n",
       " 431,\n",
       " 1171,\n",
       " 794,\n",
       " 1002,\n",
       " 238,\n",
       " 162,\n",
       " 89,\n",
       " 688,\n",
       " 945]"
      ]
     },
     "execution_count": 23,
     "metadata": {},
     "output_type": "execute_result"
    }
   ],
   "source": [
    "# Get word indices and preprocessed contents of sample email.\n",
    "sample_indices, sample_contents = processEmail(sample_email)\n",
    "\n",
    "# Show first 20 indices\n",
    "sample_indices[:20]"
   ]
  },
  {
   "cell_type": "markdown",
   "metadata": {},
   "source": [
    "The output above shows the mapping for the sample email. Specifically, in the sample email, the word “anyone” was first normalized to “anyon” and then mapped onto the index 86 in the vocabulary list."
   ]
  },
  {
   "cell_type": "markdown",
   "metadata": {},
   "source": [
    "### 2.2.2 Extracting Features from Emails"
   ]
  },
  {
   "cell_type": "markdown",
   "metadata": {},
   "source": [
    "We will now implement the feature extraction that converts each email into an n-dimensional vector. For this exercise, we will be using $n$ = number of words in vocabulary list. Specifically, the feature $x_{i} \\in {0, 1}$ for an email corresponds to whether the $i$-th word in the dictionary occurs in the email. That is, $x_{i} = 1$ if the $i$-th word is in the email and $x_{i} = 0$ if the $i$-th word is not present in the email."
   ]
  },
  {
   "cell_type": "markdown",
   "metadata": {},
   "source": [
    "This is done by the function `emailFeatures`, implemented below."
   ]
  },
  {
   "cell_type": "code",
   "execution_count": 24,
   "metadata": {},
   "outputs": [],
   "source": [
    "#emailFeatures takes in a word_indices vector and produces a feature vector from the word indices\n",
    "def emailFeatures(word_indices):\n",
    "    # Initialize variables \n",
    "    n = 1899       # total number of words in the dictionary\n",
    "    x = np.zeros((n, 1))\n",
    "    \n",
    "    # Fill up x\n",
    "    for idx in word_indices:\n",
    "        x[idx] = 1\n",
    "        \n",
    "    return x"
   ]
  },
  {
   "cell_type": "code",
   "execution_count": 25,
   "metadata": {},
   "outputs": [
    {
     "name": "stdout",
     "output_type": "stream",
     "text": [
      "Length of feature vector:  1899\n",
      "Number of non-zero entries:  41\n",
      "We expect to see that the feature vector had length 1899 and 45 non-zero entries.\n"
     ]
    }
   ],
   "source": [
    "#TESTS\n",
    "features = emailFeatures(sample_indices)\n",
    "\n",
    "print(\"Length of feature vector: \", len(features));\n",
    "print(\"Number of non-zero entries: \", np.sum(features > 0))\n",
    "print(\"We expect to see that the feature vector had length 1899 and 45 non-zero entries.\")"
   ]
  },
  {
   "cell_type": "markdown",
   "metadata": {},
   "source": [
    "The number of nonzero entries differ (but not considerably). This is most likely due to differences in the pre-processing stage. However, this should not materially affect the resulting model."
   ]
  },
  {
   "cell_type": "markdown",
   "metadata": {},
   "source": [
    "### 2.3 Training SVM for Spam Classification"
   ]
  },
  {
   "cell_type": "markdown",
   "metadata": {},
   "source": [
    "After we  have completed the feature extraction functions, the next step is to load a preprocessed training dataset that will be used to train a SVM classifier. `spamTrain.mat` contains 4000 training examples of spam\n",
    "and non-spam email, while `spamTest.mat` contains 1000 test examples. Each original email was processed using the `processEmail` and `emailFeatures` functions and converted into a vector 1,899-dimensional vector. \n",
    "\n",
    "We first load both datasets onto our notebook."
   ]
  },
  {
   "cell_type": "code",
   "execution_count": 26,
   "metadata": {},
   "outputs": [],
   "source": [
    "# Read .mat file\n",
    "spamTrain = io.loadmat('spamTrain.mat')\n",
    "spamTest = io.loadmat('spamTest.mat')\n",
    "\n",
    "# Separate into X and y values\n",
    "X = spamTrain[\"X\"]\n",
    "y = spamTrain[\"y\"]\n",
    "Xtest = spamTest[\"Xtest\"]\n",
    "ytest = spamTest[\"ytest\"]"
   ]
  },
  {
   "cell_type": "markdown",
   "metadata": {},
   "source": [
    "After loading the dataset, we can now proceed to training a SVM to classify between spam ($y = 1$) and non-spam ($y = 0$) emails."
   ]
  },
  {
   "cell_type": "code",
   "execution_count": 27,
   "metadata": {},
   "outputs": [
    {
     "data": {
      "text/plain": [
       "SVC(C=0.1, cache_size=200, class_weight=None, coef0=0.0,\n",
       "    decision_function_shape='ovr', degree=3, gamma='auto_deprecated',\n",
       "    kernel='linear', max_iter=-1, probability=False, random_state=None,\n",
       "    shrinking=True, tol=0.001, verbose=False)"
      ]
     },
     "execution_count": 27,
     "metadata": {},
     "output_type": "execute_result"
    }
   ],
   "source": [
    "classifier = SVC(C = 0.1, kernel = \"linear\")\n",
    "classifier.fit(X, np.ravel(y))"
   ]
  },
  {
   "cell_type": "code",
   "execution_count": 28,
   "metadata": {},
   "outputs": [
    {
     "name": "stdout",
     "output_type": "stream",
     "text": [
      "Training Accuracy:  99.825 %\n"
     ]
    }
   ],
   "source": [
    "print(\"Training Accuracy: \", classifier.score(X, np.ravel(y)) * 100, \"%\")"
   ]
  },
  {
   "cell_type": "code",
   "execution_count": 29,
   "metadata": {},
   "outputs": [
    {
     "name": "stdout",
     "output_type": "stream",
     "text": [
      "Testing Accuracy:  98.9 %\n"
     ]
    }
   ],
   "source": [
    "print(\"Testing Accuracy: \", classifier.score(Xtest, np.ravel(ytest)) * 100, \"%\")"
   ]
  },
  {
   "cell_type": "markdown",
   "metadata": {},
   "source": [
    "We see that the classifier gets a training accuracy of about 99.8% and a test accuracy of about 98.5%."
   ]
  },
  {
   "cell_type": "markdown",
   "metadata": {},
   "source": [
    "### 2.4 Top Predictors for Spam"
   ]
  },
  {
   "cell_type": "markdown",
   "metadata": {},
   "source": [
    "To better understand how the spam classifier works, we can inspect the parameters to see which words the classifier thinks are the most predictive of spam."
   ]
  },
  {
   "cell_type": "code",
   "execution_count": 30,
   "metadata": {},
   "outputs": [
    {
     "name": "stdout",
     "output_type": "stream",
     "text": [
      "Top predictors of spam:\n",
      "our \t\t 0.024074064500387942\n",
      "click \t\t -0.01056955376705853\n",
      "remov \t\t -0.043730181924764494\n",
      "guarante \t\t -0.025811818032545883\n",
      "visit \t\t 0.10534384124938469\n",
      "basenumb \t\t 0.0012128144581987198\n",
      "dollar \t\t -0.003506765342470138\n",
      "will \t\t -0.035617753930625176\n",
      "price \t\t -0.0342646333120762\n",
      "pleas \t\t -0.020790061969544128\n",
      "most \t\t -0.05161582553761978\n",
      "nbsp \t\t -0.05230307823541648\n",
      "lo \t\t -0.06354445695316764\n",
      "ga \t\t 0.06835976239868548\n",
      "hour \t\t -0.00396758409030591\n"
     ]
    }
   ],
   "source": [
    "# Get weights after training\n",
    "weights = classifier.coef_[0]\n",
    "\n",
    "# Sort and get indices with greatest weights \n",
    "top_indices = np.argsort(weights)[::-1]\n",
    "\n",
    "# Reverse vocabDict\n",
    "vocabDict_rev = {v:k for k, v in vocabDict.items()}\n",
    "\n",
    "# Display top spam predictors\n",
    "print(\"Top predictors of spam:\")\n",
    "for i in range(15):\n",
    "    print(vocabDict_rev[top_indices[i] + 1], \"\\t\\t\", weights[top_indices[i] + 1])"
   ]
  },
  {
   "cell_type": "markdown",
   "metadata": {},
   "source": [
    "Thus, if an email contains words such as `guarantee`, `remove`, `dollar` and `price`(some of the top predictors shown above), it is likely to be classified as spam."
   ]
  }
 ],
 "metadata": {
  "kernelspec": {
   "display_name": "Python 3",
   "language": "python",
   "name": "python3"
  },
  "language_info": {
   "codemirror_mode": {
    "name": "ipython",
    "version": 3
   },
   "file_extension": ".py",
   "mimetype": "text/x-python",
   "name": "python",
   "nbconvert_exporter": "python",
   "pygments_lexer": "ipython3",
   "version": "3.7.4"
  }
 },
 "nbformat": 4,
 "nbformat_minor": 2
}
